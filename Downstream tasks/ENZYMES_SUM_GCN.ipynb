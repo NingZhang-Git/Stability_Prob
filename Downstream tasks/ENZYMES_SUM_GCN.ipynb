{
  "cells": [
    {
      "cell_type": "code",
      "execution_count": 2,
      "metadata": {
        "id": "-R_gvSySypPt"
      },
      "outputs": [],
      "source": [
        "# Download the corresponding PyTorch Geometric module\n",
        "%%capture\n",
        "\"\"\"\n",
        "Assign to TORCH with what you get from the cell above, E.g., export TORCH=1.13.1+cu113\n",
        "\"\"\"\n",
        "%env TORCH=2.1.0+cu118\n",
        "!pip install torch-scatter -f https://data.pyg.org/whl/torch-${TORCH}.html\n",
        "!pip install torch-sparse -f https://data.pyg.org/whl/torch-${TORCH}.html\n",
        "!pip install torch-geometric"
      ]
    },
    {
      "cell_type": "code",
      "execution_count": 3,
      "metadata": {
        "colab": {
          "base_uri": "https://localhost:8080/"
        },
        "id": "n67ZNRR4zP19",
        "outputId": "00bf2a09-2abb-4479-f731-cfc4feb73779"
      },
      "outputs": [
        {
          "name": "stderr",
          "output_type": "stream",
          "text": [
            "/usr/local/lib/python3.11/dist-packages/torch_geometric/typing.py:86: UserWarning: An issue occurred while importing 'torch-scatter'. Disabling its usage. Stacktrace: /usr/local/lib/python3.11/dist-packages/torch_scatter/_version_cuda.so: undefined symbol: _ZN3c1017RegisterOperatorsD1Ev\n",
            "  warnings.warn(f\"An issue occurred while importing 'torch-scatter'. \"\n",
            "/usr/local/lib/python3.11/dist-packages/torch_geometric/typing.py:124: UserWarning: An issue occurred while importing 'torch-sparse'. Disabling its usage. Stacktrace: /usr/local/lib/python3.11/dist-packages/torch_sparse/_version_cuda.so: undefined symbol: _ZN3c1017RegisterOperatorsD1Ev\n",
            "  warnings.warn(f\"An issue occurred while importing 'torch-sparse'. \"\n"
          ]
        }
      ],
      "source": [
        "import torch\n",
        "import torch.nn.functional as F\n",
        "from torch_geometric.datasets import TUDataset\n",
        "from torch_geometric.loader import DataLoader\n",
        "from torch_geometric.nn import GINConv, global_mean_pool,global_max_pool\n",
        "import random\n",
        "import numpy as np\n",
        "\n"
      ]
    },
    {
      "cell_type": "code",
      "execution_count": 4,
      "metadata": {
        "colab": {
          "base_uri": "https://localhost:8080/"
        },
        "id": "59wnZtV04H0B",
        "outputId": "03209ad3-7b95-465e-f632-a2ae9f4e3e64"
      },
      "outputs": [
        {
          "name": "stdout",
          "output_type": "stream",
          "text": [
            "cuda\n"
          ]
        }
      ],
      "source": [
        "def set_seed(seed=1):\n",
        "    torch.manual_seed(seed)\n",
        "    np.random.seed(seed)\n",
        "    random.seed(seed)\n",
        "\n",
        "# Use GPU if available\n",
        "device = torch.device('cuda' if torch.cuda.is_available() else 'cpu')\n",
        "print(device)"
      ]
    },
    {
      "cell_type": "code",
      "execution_count": 5,
      "metadata": {
        "colab": {
          "base_uri": "https://localhost:8080/"
        },
        "id": "_qoon8MazUWw",
        "outputId": "9e86d0be-c682-473b-c9cd-850a2d87be89"
      },
      "outputs": [
        {
          "name": "stderr",
          "output_type": "stream",
          "text": [
            "Downloading https://www.chrsmrrs.com/graphkerneldatasets/ENZYMES.zip\n",
            "Processing...\n",
            "Done!\n"
          ]
        },
        {
          "name": "stdout",
          "output_type": "stream",
          "text": [
            "[2, 1, 1, 3, 4, 2, 4, 1, 2, 1]\n"
          ]
        },
        {
          "name": "stderr",
          "output_type": "stream",
          "text": [
            "/usr/local/lib/python3.11/dist-packages/torch_geometric/data/in_memory_dataset.py:300: UserWarning: It is not recommended to directly access the internal storage format `data` of an 'InMemoryDataset'. The given 'InMemoryDataset' only references a subset of examples of the full dataset, but 'data' will contain information of the full dataset. The data of the dataset is already cached, so any modifications to `data` will not be reflected when accessing its elements. Clearing the cache now by removing all elements in `dataset._data_list`. If you are absolutely certain what you are doing, access the internal storage via `InMemoryDataset._data` instead to suppress this warning. Alternatively, you can access stacked individual attributes of every graph via `dataset.{attr_name}`.\n",
            "  warnings.warn(msg)\n",
            "/usr/local/lib/python3.11/dist-packages/torch_geometric/data/in_memory_dataset.py:300: UserWarning: It is not recommended to directly access the internal storage format `data` of an 'InMemoryDataset'. The given 'InMemoryDataset' only references a subset of examples of the full dataset, but 'data' will contain information of the full dataset. If you are absolutely certain what you are doing, access the internal storage via `InMemoryDataset._data` instead to suppress this warning. Alternatively, you can access stacked individual attributes of every graph via `dataset.{attr_name}`.\n",
            "  warnings.warn(msg)\n",
            "/usr/local/lib/python3.11/dist-packages/torch_geometric/data/in_memory_dataset.py:300: UserWarning: It is not recommended to directly access the internal storage format `data` of an 'InMemoryDataset'. The given 'InMemoryDataset' only references a subset of examples of the full dataset, but 'data' will contain information of the full dataset. If you are absolutely certain what you are doing, access the internal storage via `InMemoryDataset._data` instead to suppress this warning. Alternatively, you can access stacked individual attributes of every graph via `dataset.{attr_name}`.\n",
            "  warnings.warn(msg)\n"
          ]
        }
      ],
      "source": [
        "# Load ENZYMES, MUTAG dataset\n",
        "set_seed(1)\n",
        "dataset = TUDataset(root='data/TUDataset', name='ENZYMES', use_node_attr=True)\n",
        "dataset = dataset.shuffle()\n",
        "shuffled_indices = [data.y.item() for data in dataset]\n",
        "print(shuffled_indices[:10])\n",
        "\n",
        "\n",
        "# Train/test split (80/20)\n",
        "split_idx = int(0.8 * len(dataset))\n",
        "from sklearn.preprocessing import StandardScaler\n",
        "# Normalize node features\n",
        "if dataset.data.x is not None:\n",
        "    scaler = StandardScaler()\n",
        "    dataset.data.x = torch.tensor(scaler.fit_transform(dataset.data.x.numpy()), dtype=torch.float)\n",
        "# Create train/test splits and data loaders with the normalized dataset\n",
        "train_dataset = dataset[:split_idx]\n",
        "test_dataset = dataset[split_idx:]\n",
        "train_loader = DataLoader(train_dataset, batch_size=32, shuffle=True)\n",
        "test_loader = DataLoader(test_dataset, batch_size=len(test_dataset), shuffle=False)\n"
      ]
    },
    {
      "cell_type": "code",
      "execution_count": 12,
      "metadata": {
        "id": "ZTBY04Qfzc-p"
      },
      "outputs": [],
      "source": [
        "from torch_geometric.utils import to_dense_adj\n",
        "class SUM_GCN(torch.nn.Module):\n",
        "    def __init__(self, input_dim, hidden_dim, output_dim):\n",
        "        super(SUM_GCN, self).__init__()\n",
        "        self.layer1 = torch.nn.Linear(input_dim, hidden_dim)\n",
        "        self.layer2 = torch.nn.Linear(hidden_dim, hidden_dim)\n",
        "        self.lin = torch.nn.Linear(hidden_dim, output_dim)\n",
        "\n",
        "    def forward(self, x, edge_index, batch):\n",
        "        adj = to_dense_adj(edge_index, max_num_nodes=x.size(0))[0]\n",
        "        # Move torch.eye to the same device as adj\n",
        "        adj_i = adj + torch.eye(adj.size(0), device=adj.device)\n",
        "\n",
        "        aggregated_neighbors0 =  torch.matmul(adj_i, x)\n",
        "        x = self.layer1(aggregated_neighbors0)\n",
        "        x = F.relu(x)\n",
        "\n",
        "        aggregated_neighbors1 = torch.matmul(adj_i, x)\n",
        "        x = self.layer2(aggregated_neighbors1)\n",
        "        x = F.relu(x)\n",
        "\n",
        "        x = global_max_pool(x, batch)\n",
        "        x = self.lin(x)\n",
        "        return x\n",
        "\n",
        "    def get_ebd(self, x, edge_index):\n",
        "        adj = to_dense_adj(edge_index, max_num_nodes=x.size(0))[0]\n",
        "        # Move torch.eye to the same device as adj\n",
        "        adj_i = adj + torch.eye(adj.size(0), device=adj.device)\n",
        "\n",
        "        aggregated_neighbors0 =  torch.matmul(adj_i, x)\n",
        "        x = self.layer1(aggregated_neighbors0)\n",
        "        x = F.relu(x)\n",
        "\n",
        "        aggregated_neighbors1 = torch.matmul(adj_i, x)\n",
        "        x = self.layer2(aggregated_neighbors1)\n",
        "        x = F.relu(x)\n",
        "        return x\n",
        "\n",
        "\n",
        "# Training loop\n",
        "def train():\n",
        "    model.train()\n",
        "    total_loss = 0\n",
        "    for data in train_loader:\n",
        "        data = data.to(device)\n",
        "        optimizer.zero_grad()\n",
        "        out = model(data.x, data.edge_index, data.batch)\n",
        "        loss = F.cross_entropy(out, data.y)\n",
        "        loss.backward()\n",
        "        optimizer.step()\n",
        "        total_loss += loss.item()\n",
        "    return total_loss / len(train_loader)\n",
        "\n",
        "# Evaluation\n",
        "@torch.no_grad()\n",
        "def test(loader):\n",
        "    model.eval()\n",
        "    correct = 0\n",
        "    for data in loader:\n",
        "        data = data.to(device)\n",
        "        out = model(data.x, data.edge_index, data.batch)\n",
        "        pred = out.argmax(dim=1)\n",
        "        correct += int((pred == data.y).sum())\n",
        "    return correct / len(loader.dataset)\n",
        "\n",
        "def reset_weights(m):\n",
        "    if isinstance(m, (torch.nn.Linear, GINConv)):\n",
        "        m.reset_parameters()\n"
      ]
    },
    {
      "cell_type": "code",
      "execution_count": 13,
      "metadata": {
        "colab": {
          "base_uri": "https://localhost:8080/"
        },
        "id": "onXxN-3RzjS7",
        "outputId": "8c03ab01-3ebf-46d1-ce39-51ece12711c3"
      },
      "outputs": [
        {
          "name": "stderr",
          "output_type": "stream",
          "text": [
            "/usr/local/lib/python3.11/dist-packages/torch_geometric/warnings.py:11: UserWarning: The usage of `scatter(reduce='max')` can be accelerated via the 'torch-scatter' package, but it was not found\n",
            "  warnings.warn(message)\n"
          ]
        },
        {
          "name": "stdout",
          "output_type": "stream",
          "text": [
            "Epoch 00, Loss: 2.4064, Train Acc: 0.2875, Test Acc: 0.2750\n",
            "Epoch 20, Loss: 0.4008, Train Acc: 0.9083, Test Acc: 0.5667\n",
            "Epoch 40, Loss: 0.2488, Train Acc: 0.9479, Test Acc: 0.5750\n",
            "Epoch 60, Loss: 0.0139, Train Acc: 1.0000, Test Acc: 0.6250\n"
          ]
        }
      ],
      "source": [
        "# Train for a few epochs\n",
        "model = SUM_GCN(input_dim=dataset.num_node_features,\n",
        "            hidden_dim=64,output_dim=dataset.num_classes).to(device)\n",
        "model.apply(reset_weights)\n",
        "\n",
        "optimizer = torch.optim.Adam(model.parameters(), lr=0.005, weight_decay=1e-3)\n",
        "\n",
        "num_epochs = 80\n",
        "train_acc_list = []\n",
        "test_acc_list = []\n",
        "for epoch in range(num_epochs):\n",
        "    loss = train()\n",
        "    train_acc = test(train_loader)\n",
        "    test_acc = test(test_loader)\n",
        "    train_acc_list.append(train_acc)\n",
        "    test_acc_list.append(test_acc)\n",
        "    if epoch % 20 == 0:\n",
        "      print(f\"Epoch {epoch:02d}, Loss: {loss:.4f}, Train Acc: {train_acc:.4f}, Test Acc: {test_acc:.4f}\")\n"
      ]
    },
    {
      "cell_type": "code",
      "execution_count": 14,
      "metadata": {
        "colab": {
          "base_uri": "https://localhost:8080/",
          "height": 487
        },
        "id": "vRRRTNZq1_po",
        "outputId": "1898cfb8-781c-43c8-a4f3-49b6d7f41ce9"
      },
      "outputs": [
        {
          "data": {
            "image/png": "[encoded data removed]",
            "text/plain": [
              "<Figure size 1000x500 with 1 Axes>"
            ]
          },
          "metadata": {},
          "output_type": "display_data"
        }
      ],
      "source": [
        "# Plot the training and test accuracy curves\n",
        "import matplotlib.pyplot as plt\n",
        "plt.figure(figsize=(10, 5))\n",
        "plt.plot(range(1, num_epochs + 1), train_acc_list, label='Train Accuracy')\n",
        "plt.plot(range(1, num_epochs + 1), test_acc_list, label='Test Accuracy')\n",
        "plt.xlabel('Epoch')\n",
        "plt.ylabel('Accuracy')\n",
        "plt.title('Training and Test Accuracy over Epochs')\n",
        "plt.legend()\n",
        "plt.show()"
      ]
    },
    {
      "cell_type": "code",
      "execution_count": 15,
      "metadata": {
        "id": "B3mbZsgMnVnh"
      },
      "outputs": [],
      "source": [
        "from scipy.optimize import root_scalar\n",
        "from tqdm.notebook import tqdm\n",
        "import numpy as np\n",
        "from IPython.display import clear_output\n",
        "import time\n",
        "from time import sleep\n",
        "from copy import deepcopy\n",
        "from torch_geometric.utils import to_dense_adj\n",
        "from Perturbe_Algs import Attacks\n"
      ]
    },
    {
      "cell_type": "code",
      "execution_count": 16,
      "metadata": {
        "colab": {
          "base_uri": "https://localhost:8080/",
          "height": 176,
          "referenced_widgets": [
            "b1ee01830145471983e66dad41fef981",
            "d048800bcad34dc096ca4d498427652c",
            "7ccc89bf3083472d9f5155483f18b53b",
            "a5ceb80728a24428bda6f88b1bbff4e6",
            "65fd1b4a2f9045968bbee655728f8a78",
            "e15076a4eca34a76bf79e1f65f23b3d9",
            "1b01db965ca74a6084127d321e3b44f3",
            "9e3d19cfe4694bf0a75a293e6e2a13b2",
            "bfe97a3002ec45c5925e4c0ca846653d",
            "b94658933d224e818a4842f75edc137e",
            "19c47ce095864365ab978a5405f2a56a"
          ]
        },
        "id": "cygAWjLHMtkU",
        "outputId": "d7c385e9-ec03-4fcb-d756-0b81b2346b01"
      },
      "outputs": [
        {
          "data": {
            "application/vnd.jupyter.widget-view+json": {
              "model_id": "b1ee01830145471983e66dad41fef981",
              "version_major": 2,
              "version_minor": 0
            },
            "text/plain": [
              "  0%|          | 0/120 [00:00<?, ?it/s]"
            ]
          },
          "metadata": {},
          "output_type": "display_data"
        },
        {
          "name": "stderr",
          "output_type": "stream",
          "text": [
            "<ipython-input-16-7ac90ef2a133>:24: UserWarning: To copy construct from a tensor, it is recommended to use sourceTensor.clone().detach() or sourceTensor.clone().detach().requires_grad_(True), rather than torch.tensor(sourceTensor).\n",
            "  random_edge_index = torch.tensor(A_random).nonzero(as_tuple=False).t().contiguous()\n",
            "<ipython-input-16-7ac90ef2a133>:25: UserWarning: To copy construct from a tensor, it is recommended to use sourceTensor.clone().detach() or sourceTensor.clone().detach().requires_grad_(True), rather than torch.tensor(sourceTensor).\n",
            "  pgdavg_edge_index = torch.tensor(A_pgd_avg).nonzero(as_tuple=False).t().contiguous()\n",
            "<ipython-input-16-7ac90ef2a133>:26: UserWarning: To copy construct from a tensor, it is recommended to use sourceTensor.clone().detach() or sourceTensor.clone().detach().requires_grad_(True), rather than torch.tensor(sourceTensor).\n",
            "  pgdwst_edge_index = torch.tensor(A_pgd_wst).nonzero(as_tuple=False).t().contiguous()\n"
          ]
        }
      ],
      "source": [
        "random_dataset = [deepcopy(data) for data in test_dataset]\n",
        "pgdavg_dataset = [deepcopy(data) for data in test_dataset]\n",
        "pgdwst_dataset = [deepcopy(data) for data in test_dataset]\n",
        "\n",
        "for i in tqdm(range(len(test_dataset))):\n",
        "    data = test_dataset[i].to(device)\n",
        "    edge_index = data.edge_index\n",
        "    dataA = to_dense_adj(edge_index)[0].clone()\n",
        "    K = (data.x) @ (data.x).T\n",
        "    if dataA.shape[0] == data.x.shape[0]:\n",
        "      n = dataA.shape[0]\n",
        "      num = int(n*n*0.05)\n",
        "      attack_instance = Attacks(dataA, K, m=num, filter = 'adj').to(device)\n",
        "\n",
        "      A_pgd_avg = attack_instance.Prob_PGD().clone().detach()\n",
        "      A_pgd_wst = attack_instance.Wst_PGD().clone().detach()\n",
        "      A_random = attack_instance.randomAttack().clone().detach()\n",
        "    else:\n",
        "      print('Miss matched data: no operation')\n",
        "      A_pgd_avg = dataA.clone().detach()\n",
        "      A_pgd_wst = dataA.clone().detach()\n",
        "      A_random = dataA.clone().detach()\n",
        "\n",
        "    random_edge_index = torch.tensor(A_random).nonzero(as_tuple=False).t().contiguous()\n",
        "    pgdavg_edge_index = torch.tensor(A_pgd_avg).nonzero(as_tuple=False).t().contiguous()\n",
        "    pgdwst_edge_index = torch.tensor(A_pgd_wst).nonzero(as_tuple=False).t().contiguous()\n",
        "\n",
        "    random_dataset[i].edge_index = random_edge_index\n",
        "    pgdavg_dataset[i].edge_index = pgdavg_edge_index\n",
        "    pgdwst_dataset[i].edge_index = pgdwst_edge_index"
      ]
    },
    {
      "cell_type": "code",
      "execution_count": 22,
      "metadata": {
        "colab": {
          "base_uri": "https://localhost:8080/"
        },
        "id": "2wbk6tbxpN-c",
        "outputId": "f2f644b0-9817-469e-a6d1-2a4186581f24"
      },
      "outputs": [
        {
          "name": "stderr",
          "output_type": "stream",
          "text": [
            "/usr/local/lib/python3.11/dist-packages/torch_geometric/warnings.py:11: UserWarning: The usage of `scatter(reduce='max')` can be accelerated via the 'torch-scatter' package, but it was not found\n",
            "  warnings.warn(message)\n"
          ]
        },
        {
          "name": "stdout",
          "output_type": "stream",
          "text": [
            "-----Iteration 0-----\n",
            "Test Acc: 0.6167\n",
            "PGD-AVG Test Acc: 0.3667\n",
            "PGD-WST Test Acc: 0.3583\n",
            "Random Test Acc: 0.4583\n",
            "-----Iteration 1-----\n",
            "Test Acc: 0.5833\n",
            "PGD-AVG Test Acc: 0.3833\n",
            "PGD-WST Test Acc: 0.3167\n",
            "Random Test Acc: 0.4417\n",
            "-----Iteration 2-----\n",
            "Test Acc: 0.6250\n",
            "PGD-AVG Test Acc: 0.3583\n",
            "PGD-WST Test Acc: 0.4417\n",
            "Random Test Acc: 0.4750\n",
            "-----Iteration 3-----\n",
            "Test Acc: 0.5917\n",
            "PGD-AVG Test Acc: 0.3167\n",
            "PGD-WST Test Acc: 0.4083\n",
            "Random Test Acc: 0.4500\n",
            "-----Iteration 4-----\n",
            "Test Acc: 0.6250\n",
            "PGD-AVG Test Acc: 0.3583\n",
            "PGD-WST Test Acc: 0.4167\n",
            "Random Test Acc: 0.5000\n",
            "-----Iteration 5-----\n",
            "Test Acc: 0.5750\n",
            "PGD-AVG Test Acc: 0.3333\n",
            "PGD-WST Test Acc: 0.4167\n",
            "Random Test Acc: 0.4500\n",
            "-----Iteration 6-----\n",
            "Test Acc: 0.5917\n",
            "PGD-AVG Test Acc: 0.4167\n",
            "PGD-WST Test Acc: 0.3917\n",
            "Random Test Acc: 0.4583\n",
            "-----Iteration 7-----\n",
            "Test Acc: 0.5833\n",
            "PGD-AVG Test Acc: 0.2917\n",
            "PGD-WST Test Acc: 0.3583\n",
            "Random Test Acc: 0.4250\n",
            "-----Iteration 8-----\n",
            "Test Acc: 0.5167\n",
            "PGD-AVG Test Acc: 0.3583\n",
            "PGD-WST Test Acc: 0.3750\n",
            "Random Test Acc: 0.4083\n",
            "-----Iteration 9-----\n",
            "Test Acc: 0.5667\n",
            "PGD-AVG Test Acc: 0.3833\n",
            "PGD-WST Test Acc: 0.3917\n",
            "Random Test Acc: 0.4750\n"
          ]
        }
      ],
      "source": [
        "rep_num = 10\n",
        "list_acc_pgdavg = []\n",
        "list_acc_pgdwst = []\n",
        "list_acc_random = []\n",
        "list_acc = []\n",
        "list_embed_pgdavg = []\n",
        "list_embed_pgdwst = []\n",
        "list_embed_random = []\n",
        "\n",
        "for l in range(rep_num):\n",
        "\n",
        "  embed_pgdavg = []\n",
        "  embed_pgdwst = []\n",
        "  embed_random = []\n",
        "\n",
        "  # Re-train model in repeating experiment\n",
        "  model.apply(reset_weights)\n",
        "  num_epochs = 50\n",
        "  for epoch in range(num_epochs):\n",
        "    loss = train()\n",
        "    train_acc = test(train_loader)\n",
        "    test_acc = test(test_loader)\n",
        "    train_acc_list.append(train_acc)\n",
        "    test_acc_list.append(test_acc)\n",
        "\n",
        "  model.eval()\n",
        "  for i in (range(len(test_dataset))):\n",
        "    data = test_dataset[i].to(device)\n",
        "    avg_data = pgdavg_dataset[i].to(device)\n",
        "    wst_data = pgdwst_dataset[i].to(device)\n",
        "    random_data = random_dataset[i].to(device)\n",
        "    with torch.no_grad():\n",
        "      ebd_test = model.get_ebd(data.x, data.edge_index)\n",
        "      ebd_pgd_avg = model.get_ebd(data.x, avg_data.edge_index )\n",
        "      ebd_pgd_wst = model.get_ebd(data.x, wst_data.edge_index)\n",
        "      ebd_random = model.get_ebd(data.x, random_data.edge_index)\n",
        "\n",
        "      embed_pgdavg.append(torch.norm(ebd_test - ebd_pgd_avg, p = 'fro'))\n",
        "      embed_pgdwst.append(torch.norm(ebd_test - ebd_pgd_wst, p = 'fro'))\n",
        "      embed_random.append(torch.norm(ebd_test - ebd_random, p = 'fro'))\n",
        "\n",
        "  pgdavg_test_loader = DataLoader(pgdavg_dataset, batch_size=len(pgdavg_dataset), shuffle=False)\n",
        "  pgdwst_test_loader = DataLoader(pgdwst_dataset, batch_size=len(pgdwst_dataset), shuffle=False)\n",
        "  random_test_loader = DataLoader(random_dataset, batch_size=len(random_dataset), shuffle=False)\n",
        "\n",
        "  list_embed_pgdavg.append(sum(embed_pgdavg).item()/len(test_dataset))\n",
        "  list_embed_pgdwst.append(sum(embed_pgdwst).item()/len(test_dataset))\n",
        "  list_embed_random.append(sum(embed_random).item()/len(test_dataset))\n",
        "\n",
        "  print(f\"-----Iteration {l:d}-----\")\n",
        "  print(f\"Test Acc: {test_acc:.4f}\")\n",
        "  list_acc.append(test_acc)\n",
        "  pgdavg_test_acc = test(pgdavg_test_loader)\n",
        "  list_acc_pgdavg.append(pgdavg_test_acc)\n",
        "  print(f\"PGD-AVG Test Acc: {pgdavg_test_acc:.4f}\")\n",
        "\n",
        "  pgdwst_test_acc = test(pgdwst_test_loader)\n",
        "  list_acc_pgdwst.append(pgdwst_test_acc)\n",
        "  print(f\"PGD-WST Test Acc: {pgdwst_test_acc:.4f}\")\n",
        "\n",
        "  random_test_acc = test(random_test_loader)\n",
        "  list_acc_random.append(random_test_acc)\n",
        "  print(f\"Random Test Acc: {random_test_acc:.4f}\")\n"
      ]
    },
    {
      "cell_type": "code",
      "execution_count": 23,
      "metadata": {
        "colab": {
          "base_uri": "https://localhost:8080/"
        },
        "id": "hrjHDysUc_cB",
        "outputId": "8e70a37e-dd9b-4a38-f963-0d7354071c4c"
      },
      "outputs": [
        {
          "name": "stdout",
          "output_type": "stream",
          "text": [
            "Test: 58.75, std:3.06\n",
            "Mean of random: 45.42, std:2.48\n",
            "Mean of Wst_PGD: 38.75, std: 3.46\n",
            "Mean of Prob_PGD:35.67, std: 0.03\n"
          ]
        }
      ],
      "source": [
        "print(f\"Test: {np.mean(list_acc)*100:.2f}, std:{np.std(list_acc)*100:.2f}\")\n",
        "print(f\"Mean of random: {np.mean(list_acc_random)*100:.2f}, std:{np.std(list_acc_random)*100:.2f}\")\n",
        "print(f\"Mean of Wst_PGD: {np.mean(list_acc_pgdwst)*100:.2f}, std: {np.std(list_acc_pgdwst)*100:.2f}\")\n",
        "print(f\"Mean of Prob_PGD:{np.mean(list_acc_pgdavg)*100:.2f}, std: {np.std(list_acc_pgdavg):.2f}\")\n"
      ]
    },
    {
      "cell_type": "code",
      "execution_count": 24,
      "metadata": {
        "colab": {
          "base_uri": "https://localhost:8080/"
        },
        "id": "u4QSSbYwrrGo",
        "outputId": "1b57146d-0311-4d98-dce0-5432b43868c9"
      },
      "outputs": [
        {
          "name": "stdout",
          "output_type": "stream",
          "text": [
            "Mean of random embedding norm: 123.59, std:10.41\n",
            "Mean of Wst_PGD embedding norm: 392.63, std: 38.35\n",
            "Mean of Prob_PGD embedding norm:450.61, std: 47.91\n"
          ]
        }
      ],
      "source": [
        "print(f\"Mean of random embedding norm: {np.mean(list_embed_random):.2f}, std:{np.std(list_embed_random):.2f}\")\n",
        "print(f\"Mean of Wst_PGD embedding norm: {np.mean(list_embed_pgdwst):.2f}, std: {np.std(list_embed_pgdwst):.2f}\")\n",
        "print(f\"Mean of Prob_PGD embedding norm:{np.mean(list_embed_pgdavg):.2f}, std: {np.std(list_embed_pgdavg):.2f}\")"
      ]
    },
    {
      "cell_type": "code",
      "execution_count": 25,
      "metadata": {
        "colab": {
          "base_uri": "https://localhost:8080/",
          "height": 601
        },
        "id": "XYDoDuK-Df17",
        "outputId": "e0eae714-4716-4091-aa19-8d103f1efeca"
      },
      "outputs": [
        {
          "name": "stderr",
          "output_type": "stream",
          "text": [
            "<ipython-input-25-de5d6de50e7c>:2: MatplotlibDeprecationWarning: The 'labels' parameter of boxplot() has been renamed 'tick_labels' since Matplotlib 3.9; support for the old name will be dropped in 3.11.\n",
            "  plt.boxplot([\n"
          ]
        },
        {
          "data": {
            "image/png": "[encoded data removed]",
            "text/plain": [
              "<Figure size 600x600 with 1 Axes>"
            ]
          },
          "metadata": {},
          "output_type": "display_data"
        }
      ],
      "source": [
        "plt.figure(figsize=(6, 6))\n",
        "plt.boxplot([\n",
        "    [e.cpu() for e in embed_pgdavg],\n",
        "    [e.cpu() for e in embed_pgdwst],\n",
        "    [e.cpu() for e in embed_random]\n",
        "], labels=['Prob-PGD', 'Wst-PGD', 'Random'],showmeans = True)\n",
        "plt.ylabel('Average perturbation (Frob norm)')\n",
        "plt.title('2-layer GCN embedding perturbation')\n",
        "plt.show()"
      ]
    },
    {
      "cell_type": "code",
      "execution_count": 26,
      "metadata": {
        "colab": {
          "base_uri": "https://localhost:8080/"
        },
        "id": "9t9RLe8m-zM4",
        "outputId": "92fbae3a-a723-4c05-efe0-05e65709fd35"
      },
      "outputs": [
        {
          "name": "stdout",
          "output_type": "stream",
          "text": [
            "Test: 58.75 \\pm 3.06\n",
            "Mean of random: 45.42 \\pm 2.48\n",
            "Mean of Wst_PGD: 38.75 \\pm 3.46\n",
            "Mean of Prob_PGD:35.67 \\pm 0.03\n",
            "Mean of random embedding norm: 123.59 \\pm 10.41\n",
            "Mean of Wst_PGD embedding norm: 392.63 \\pm 38.35\n",
            "Mean of Prob_PGD embedding norm:450.61 \\pm 47.91\n"
          ]
        }
      ],
      "source": [
        "print(f\"Test: {np.mean(list_acc)*100:.2f} \\pm {np.std(list_acc)*100:.2f}\")\n",
        "print(f\"Mean of random: {np.mean(list_acc_random)*100:.2f} \\pm {np.std(list_acc_random)*100:.2f}\")\n",
        "print(f\"Mean of Wst_PGD: {np.mean(list_acc_pgdwst)*100:.2f} \\pm {np.std(list_acc_pgdwst)*100:.2f}\")\n",
        "print(f\"Mean of Prob_PGD:{np.mean(list_acc_pgdavg)*100:.2f} \\pm {np.std(list_acc_pgdavg):.2f}\")\n",
        "print(f\"Mean of random embedding norm: {np.mean(list_embed_random):.2f} \\pm {np.std(list_embed_random):.2f}\")\n",
        "print(f\"Mean of Wst_PGD embedding norm: {np.mean(list_embed_pgdwst):.2f} \\pm {np.std(list_embed_pgdwst):.2f}\")\n",
        "print(f\"Mean of Prob_PGD embedding norm:{np.mean(list_embed_pgdavg):.2f} \\pm {np.std(list_embed_pgdavg):.2f}\")"
      ]
    }
  ],
  "metadata": {
    "accelerator": "GPU",
    "colab": {
      "gpuType": "A100",
      "machine_shape": "hm",
      "provenance": []
    },
    "kernelspec": {
      "display_name": "Python 3",
      "name": "python3"
    },
    "language_info": {
      "name": "python"
    },
    "widgets": {
      "application/vnd.jupyter.widget-state+json": {
        "19c47ce095864365ab978a5405f2a56a": {
          "model_module": "@jupyter-widgets/controls",
          "model_module_version": "1.5.0",
          "model_name": "DescriptionStyleModel",
          "state": {
            "_model_module": "@jupyter-widgets/controls",
            "_model_module_version": "1.5.0",
            "_model_name": "DescriptionStyleModel",
            "_view_count": null,
            "_view_module": "@jupyter-widgets/base",
            "_view_module_version": "1.2.0",
            "_view_name": "StyleView",
            "description_width": ""
          }
        },
        "1b01db965ca74a6084127d321e3b44f3": {
          "model_module": "@jupyter-widgets/controls",
          "model_module_version": "1.5.0",
          "model_name": "DescriptionStyleModel",
          "state": {
            "_model_module": "@jupyter-widgets/controls",
            "_model_module_version": "1.5.0",
            "_model_name": "DescriptionStyleModel",
            "_view_count": null,
            "_view_module": "@jupyter-widgets/base",
            "_view_module_version": "1.2.0",
            "_view_name": "StyleView",
            "description_width": ""
          }
        },
        "65fd1b4a2f9045968bbee655728f8a78": {
          "model_module": "@jupyter-widgets/base",
          "model_module_version": "1.2.0",
          "model_name": "LayoutModel",
          "state": {
            "_model_module": "@jupyter-widgets/base",
            "_model_module_version": "1.2.0",
            "_model_name": "LayoutModel",
            "_view_count": null,
            "_view_module": "@jupyter-widgets/base",
            "_view_module_version": "1.2.0",
            "_view_name": "LayoutView",
            "align_content": null,
            "align_items": null,
            "align_self": null,
            "border": null,
            "bottom": null,
            "display": null,
            "flex": null,
            "flex_flow": null,
            "grid_area": null,
            "grid_auto_columns": null,
            "grid_auto_flow": null,
            "grid_auto_rows": null,
            "grid_column": null,
            "grid_gap": null,
            "grid_row": null,
            "grid_template_areas": null,
            "grid_template_columns": null,
            "grid_template_rows": null,
            "height": null,
            "justify_content": null,
            "justify_items": null,
            "left": null,
            "margin": null,
            "max_height": null,
            "max_width": null,
            "min_height": null,
            "min_width": null,
            "object_fit": null,
            "object_position": null,
            "order": null,
            "overflow": null,
            "overflow_x": null,
            "overflow_y": null,
            "padding": null,
            "right": null,
            "top": null,
            "visibility": null,
            "width": null
          }
        },
        "7ccc89bf3083472d9f5155483f18b53b": {
          "model_module": "@jupyter-widgets/controls",
          "model_module_version": "1.5.0",
          "model_name": "FloatProgressModel",
          "state": {
            "_dom_classes": [],
            "_model_module": "@jupyter-widgets/controls",
            "_model_module_version": "1.5.0",
            "_model_name": "FloatProgressModel",
            "_view_count": null,
            "_view_module": "@jupyter-widgets/controls",
            "_view_module_version": "1.5.0",
            "_view_name": "ProgressView",
            "bar_style": "success",
            "description": "",
            "description_tooltip": null,
            "layout": "IPY_MODEL_9e3d19cfe4694bf0a75a293e6e2a13b2",
            "max": 120,
            "min": 0,
            "orientation": "horizontal",
            "style": "IPY_MODEL_bfe97a3002ec45c5925e4c0ca846653d",
            "value": 120
          }
        },
        "9e3d19cfe4694bf0a75a293e6e2a13b2": {
          "model_module": "@jupyter-widgets/base",
          "model_module_version": "1.2.0",
          "model_name": "LayoutModel",
          "state": {
            "_model_module": "@jupyter-widgets/base",
            "_model_module_version": "1.2.0",
            "_model_name": "LayoutModel",
            "_view_count": null,
            "_view_module": "@jupyter-widgets/base",
            "_view_module_version": "1.2.0",
            "_view_name": "LayoutView",
            "align_content": null,
            "align_items": null,
            "align_self": null,
            "border": null,
            "bottom": null,
            "display": null,
            "flex": null,
            "flex_flow": null,
            "grid_area": null,
            "grid_auto_columns": null,
            "grid_auto_flow": null,
            "grid_auto_rows": null,
            "grid_column": null,
            "grid_gap": null,
            "grid_row": null,
            "grid_template_areas": null,
            "grid_template_columns": null,
            "grid_template_rows": null,
            "height": null,
            "justify_content": null,
            "justify_items": null,
            "left": null,
            "margin": null,
            "max_height": null,
            "max_width": null,
            "min_height": null,
            "min_width": null,
            "object_fit": null,
            "object_position": null,
            "order": null,
            "overflow": null,
            "overflow_x": null,
            "overflow_y": null,
            "padding": null,
            "right": null,
            "top": null,
            "visibility": null,
            "width": null
          }
        },
        "a5ceb80728a24428bda6f88b1bbff4e6": {
          "model_module": "@jupyter-widgets/controls",
          "model_module_version": "1.5.0",
          "model_name": "HTMLModel",
          "state": {
            "_dom_classes": [],
            "_model_module": "@jupyter-widgets/controls",
            "_model_module_version": "1.5.0",
            "_model_name": "HTMLModel",
            "_view_count": null,
            "_view_module": "@jupyter-widgets/controls",
            "_view_module_version": "1.5.0",
            "_view_name": "HTMLView",
            "description": "",
            "description_tooltip": null,
            "layout": "IPY_MODEL_b94658933d224e818a4842f75edc137e",
            "placeholder": "​",
            "style": "IPY_MODEL_19c47ce095864365ab978a5405f2a56a",
            "value": " 120/120 [02:30&lt;00:00,  1.00s/it]"
          }
        },
        "b1ee01830145471983e66dad41fef981": {
          "model_module": "@jupyter-widgets/controls",
          "model_module_version": "1.5.0",
          "model_name": "HBoxModel",
          "state": {
            "_dom_classes": [],
            "_model_module": "@jupyter-widgets/controls",
            "_model_module_version": "1.5.0",
            "_model_name": "HBoxModel",
            "_view_count": null,
            "_view_module": "@jupyter-widgets/controls",
            "_view_module_version": "1.5.0",
            "_view_name": "HBoxView",
            "box_style": "",
            "children": [
              "IPY_MODEL_d048800bcad34dc096ca4d498427652c",
              "IPY_MODEL_7ccc89bf3083472d9f5155483f18b53b",
              "IPY_MODEL_a5ceb80728a24428bda6f88b1bbff4e6"
            ],
            "layout": "IPY_MODEL_65fd1b4a2f9045968bbee655728f8a78"
          }
        },
        "b94658933d224e818a4842f75edc137e": {
          "model_module": "@jupyter-widgets/base",
          "model_module_version": "1.2.0",
          "model_name": "LayoutModel",
          "state": {
            "_model_module": "@jupyter-widgets/base",
            "_model_module_version": "1.2.0",
            "_model_name": "LayoutModel",
            "_view_count": null,
            "_view_module": "@jupyter-widgets/base",
            "_view_module_version": "1.2.0",
            "_view_name": "LayoutView",
            "align_content": null,
            "align_items": null,
            "align_self": null,
            "border": null,
            "bottom": null,
            "display": null,
            "flex": null,
            "flex_flow": null,
            "grid_area": null,
            "grid_auto_columns": null,
            "grid_auto_flow": null,
            "grid_auto_rows": null,
            "grid_column": null,
            "grid_gap": null,
            "grid_row": null,
            "grid_template_areas": null,
            "grid_template_columns": null,
            "grid_template_rows": null,
            "height": null,
            "justify_content": null,
            "justify_items": null,
            "left": null,
            "margin": null,
            "max_height": null,
            "max_width": null,
            "min_height": null,
            "min_width": null,
            "object_fit": null,
            "object_position": null,
            "order": null,
            "overflow": null,
            "overflow_x": null,
            "overflow_y": null,
            "padding": null,
            "right": null,
            "top": null,
            "visibility": null,
            "width": null
          }
        },
        "bfe97a3002ec45c5925e4c0ca846653d": {
          "model_module": "@jupyter-widgets/controls",
          "model_module_version": "1.5.0",
          "model_name": "ProgressStyleModel",
          "state": {
            "_model_module": "@jupyter-widgets/controls",
            "_model_module_version": "1.5.0",
            "_model_name": "ProgressStyleModel",
            "_view_count": null,
            "_view_module": "@jupyter-widgets/base",
            "_view_module_version": "1.2.0",
            "_view_name": "StyleView",
            "bar_color": null,
            "description_width": ""
          }
        },
        "d048800bcad34dc096ca4d498427652c": {
          "model_module": "@jupyter-widgets/controls",
          "model_module_version": "1.5.0",
          "model_name": "HTMLModel",
          "state": {
            "_dom_classes": [],
            "_model_module": "@jupyter-widgets/controls",
            "_model_module_version": "1.5.0",
            "_model_name": "HTMLModel",
            "_view_count": null,
            "_view_module": "@jupyter-widgets/controls",
            "_view_module_version": "1.5.0",
            "_view_name": "HTMLView",
            "description": "",
            "description_tooltip": null,
            "layout": "IPY_MODEL_e15076a4eca34a76bf79e1f65f23b3d9",
            "placeholder": "​",
            "style": "IPY_MODEL_1b01db965ca74a6084127d321e3b44f3",
            "value": "100%"
          }
        },
        "e15076a4eca34a76bf79e1f65f23b3d9": {
          "model_module": "@jupyter-widgets/base",
          "model_module_version": "1.2.0",
          "model_name": "LayoutModel",
          "state": {
            "_model_module": "@jupyter-widgets/base",
            "_model_module_version": "1.2.0",
            "_model_name": "LayoutModel",
            "_view_count": null,
            "_view_module": "@jupyter-widgets/base",
            "_view_module_version": "1.2.0",
            "_view_name": "LayoutView",
            "align_content": null,
            "align_items": null,
            "align_self": null,
            "border": null,
            "bottom": null,
            "display": null,
            "flex": null,
            "flex_flow": null,
            "grid_area": null,
            "grid_auto_columns": null,
            "grid_auto_flow": null,
            "grid_auto_rows": null,
            "grid_column": null,
            "grid_gap": null,
            "grid_row": null,
            "grid_template_areas": null,
            "grid_template_columns": null,
            "grid_template_rows": null,
            "height": null,
            "justify_content": null,
            "justify_items": null,
            "left": null,
            "margin": null,
            "max_height": null,
            "max_width": null,
            "min_height": null,
            "min_width": null,
            "object_fit": null,
            "object_position": null,
            "order": null,
            "overflow": null,
            "overflow_x": null,
            "overflow_y": null,
            "padding": null,
            "right": null,
            "top": null,
            "visibility": null,
            "width": null
          }
        }
      }
    }
  },
  "nbformat": 4,
  "nbformat_minor": 0
}
