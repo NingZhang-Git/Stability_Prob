{
  "cells": [
    {
      "cell_type": "code",
      "execution_count": 62,
      "metadata": {
        "id": "-R_gvSySypPt"
      },
      "outputs": [],
      "source": [
        "# Download the corresponding PyTorch Geometric module\n",
        "%%capture\n",
        "\"\"\"\n",
        "Assign to TORCH with what you get from the cell above, E.g., export TORCH=1.13.1+cu113\n",
        "\"\"\"\n",
        "%env TORCH=2.1.0+cu118\n",
        "!pip install torch-scatter -f https://data.pyg.org/whl/torch-${TORCH}.html\n",
        "!pip install torch-sparse -f https://data.pyg.org/whl/torch-${TORCH}.html\n",
        "!pip install torch-geometric"
      ]
    },
    {
      "cell_type": "code",
      "execution_count": 63,
      "metadata": {
        "id": "n67ZNRR4zP19"
      },
      "outputs": [],
      "source": [
        "import torch\n",
        "import torch.nn.functional as F\n",
        "from torch_geometric.datasets import TUDataset\n",
        "from torch_geometric.loader import DataLoader\n",
        "from torch_geometric.nn import GCNConv, global_mean_pool,global_max_pool\n",
        "import random\n",
        "import numpy as np\n",
        "\n"
      ]
    },
    {
      "cell_type": "code",
      "source": [
        "def set_seed(seed=1):\n",
        "    torch.manual_seed(seed)\n",
        "    np.random.seed(seed)\n",
        "    random.seed(seed)\n",
        "\n",
        "# Use GPU if available\n",
        "device = torch.device('cuda' if torch.cuda.is_available() else 'cpu')\n",
        "print(device)"
      ],
      "metadata": {
        "colab": {
          "base_uri": "https://localhost:8080/"
        },
        "id": "59wnZtV04H0B",
        "outputId": "68830234-7beb-4787-bd7b-0842714204bb"
      },
      "execution_count": 64,
      "outputs": [
        {
          "output_type": "stream",
          "name": "stdout",
          "text": [
            "cpu\n"
          ]
        }
      ]
    },
    {
      "cell_type": "code",
      "execution_count": 65,
      "metadata": {
        "colab": {
          "base_uri": "https://localhost:8080/"
        },
        "id": "_qoon8MazUWw",
        "outputId": "89d69881-1a4e-4a45-eb36-23e60464a1b0"
      },
      "outputs": [
        {
          "output_type": "stream",
          "name": "stdout",
          "text": [
            "[1, 0, 0, 1, 1, 1, 0, 0, 0, 1]\n"
          ]
        }
      ],
      "source": [
        "# Load ENZYMES, MUTAG dataset\n",
        "set_seed(1)\n",
        "dataset = TUDataset(root='data/TUDataset', name='MUTAG', use_node_attr=True)\n",
        "dataset = dataset.shuffle()\n",
        "shuffled_indices = [data.y.item() for data in dataset]\n",
        "print(shuffled_indices[:10])\n",
        "\n",
        "\n",
        "# Train/test split (80/20)\n",
        "split_idx = int(0.8 * len(dataset))\n",
        "train_dataset = dataset[:split_idx]\n",
        "test_dataset = dataset[split_idx:]\n",
        "train_loader = DataLoader(train_dataset, batch_size=32, shuffle=True)\n",
        "test_loader = DataLoader(test_dataset, batch_size=len(test_dataset), shuffle=False)\n"
      ]
    },
    {
      "cell_type": "code",
      "execution_count": 66,
      "metadata": {
        "id": "ZTBY04Qfzc-p"
      },
      "outputs": [],
      "source": [
        "class GCN(torch.nn.Module):\n",
        "    def __init__(self, input_dim, hidden_dim):\n",
        "        super(GCN, self).__init__()\n",
        "        self.conv1 = GCNConv(input_dim, hidden_dim, cached=False)\n",
        "        self.conv2 = GCNConv(hidden_dim, hidden_dim, cached=False)\n",
        "        self.lin = torch.nn.Linear(hidden_dim, 1)\n",
        "\n",
        "    def forward(self, x, edge_index, batch):\n",
        "        x = self.conv1(x, edge_index)\n",
        "        x = self.conv2(x, edge_index)\n",
        "        x = F.dropout(x, p=0.3, training=self.training)\n",
        "        x = global_max_pool(x, batch)  # Aggregate node features\n",
        "        x = self.lin(x)\n",
        "        return x.view(-1)\n",
        "\n",
        "    def get_ebd(self, x, edge_index):\n",
        "        x = self.conv1(x, edge_index)\n",
        "        x = self.conv2(x, edge_index)\n",
        "        return x\n",
        "\n",
        "\n",
        "def train():\n",
        "    model.train()\n",
        "    criterion = torch.nn.BCEWithLogitsLoss()\n",
        "    total_loss = 0\n",
        "    for data in train_loader:\n",
        "        data = data.to(device)\n",
        "        optimizer.zero_grad()\n",
        "        out = model(data.x, data.edge_index, data.batch)\n",
        "        loss = criterion(out, data.y.float())\n",
        "        loss.backward()\n",
        "        optimizer.step()\n",
        "        total_loss += loss.item()\n",
        "    return total_loss / len(train_loader)\n",
        "\n",
        "# Evaluation\n",
        "@torch.no_grad()\n",
        "def test(loader):\n",
        "    model.eval()\n",
        "    correct = 0\n",
        "    for data in loader:\n",
        "        data = data.to(device)\n",
        "        out = model(data.x, data.edge_index, data.batch)\n",
        "        pred = (torch.sigmoid(out) > 0.5).long()\n",
        "        correct += int((pred == data.y).sum())\n",
        "    return correct / len(loader.dataset)\n",
        "\n",
        "def reset_weights(m):\n",
        "    if isinstance(m, (torch.nn.Linear, GCNConv)):\n",
        "        m.reset_parameters()\n"
      ]
    },
    {
      "cell_type": "code",
      "execution_count": 67,
      "metadata": {
        "colab": {
          "base_uri": "https://localhost:8080/"
        },
        "id": "onXxN-3RzjS7",
        "outputId": "4c1f8239-b70c-4274-ba70-5877ea026ade"
      },
      "outputs": [
        {
          "output_type": "stream",
          "name": "stdout",
          "text": [
            "Epoch 00, Loss: 0.6121, Train Acc: 0.6933, Test Acc: 0.5526\n",
            "Epoch 20, Loss: 0.5033, Train Acc: 0.7800, Test Acc: 0.6842\n",
            "Epoch 40, Loss: 0.4984, Train Acc: 0.7867, Test Acc: 0.6842\n",
            "Epoch 60, Loss: 0.4859, Train Acc: 0.7667, Test Acc: 0.7105\n"
          ]
        }
      ],
      "source": [
        "# Train for a few epochs\n",
        "model = GCN(input_dim=dataset.num_node_features,\n",
        "            hidden_dim=64).to(device)\n",
        "model.apply(reset_weights)\n",
        "\n",
        "optimizer = torch.optim.Adam(model.parameters(), lr=0.005, weight_decay=1e-3)\n",
        "\n",
        "num_epochs = 80\n",
        "train_acc_list = []\n",
        "test_acc_list = []\n",
        "for epoch in range(num_epochs):\n",
        "    loss = train()\n",
        "    train_acc = test(train_loader)\n",
        "    test_acc = test(test_loader)\n",
        "    train_acc_list.append(train_acc)\n",
        "    test_acc_list.append(test_acc)\n",
        "    if epoch % 20 == 0:\n",
        "      print(f\"Epoch {epoch:02d}, Loss: {loss:.4f}, Train Acc: {train_acc:.4f}, Test Acc: {test_acc:.4f}\")\n"
      ]
    },
    {
      "cell_type": "code",
      "execution_count": 68,
      "metadata": {
        "colab": {
          "base_uri": "https://localhost:8080/",
          "height": 487
        },
        "id": "vRRRTNZq1_po",
        "outputId": "0be4932f-c335-4756-a237-1e506ac571b9"
      },
      "outputs": [
        {
          "output_type": "display_data",
          "data": {
            "text/plain": [
              "<Figure size 1000x500 with 1 Axes>"
            ],
            "image/png": "[encoded data removed]"
          },
          "metadata": {}
        }
      ],
      "source": [
        "# Plot the training and test accuracy curves\n",
        "import matplotlib.pyplot as plt\n",
        "plt.figure(figsize=(10, 5))\n",
        "plt.plot(range(1, num_epochs + 1), train_acc_list, label='Train Accuracy')\n",
        "plt.plot(range(1, num_epochs + 1), test_acc_list, label='Test Accuracy')\n",
        "plt.xlabel('Epoch')\n",
        "plt.ylabel('Accuracy')\n",
        "plt.title('Training and Test Accuracy over Epochs')\n",
        "plt.legend()\n",
        "plt.show()"
      ]
    },
    {
      "cell_type": "code",
      "execution_count": 69,
      "metadata": {
        "id": "B3mbZsgMnVnh"
      },
      "outputs": [],
      "source": [
        "from scipy.optimize import root_scalar\n",
        "from tqdm.notebook import tqdm\n",
        "import numpy as np\n",
        "from IPython.display import clear_output\n",
        "import time\n",
        "from time import sleep\n",
        "from copy import deepcopy\n",
        "from torch_geometric.utils import to_dense_adj\n",
        "from Perturbe_Algs import Attacks\n"
      ]
    },
    {
      "cell_type": "code",
      "source": [
        "random_dataset = [deepcopy(data) for data in test_dataset]\n",
        "pgdavg_dataset = [deepcopy(data) for data in test_dataset]\n",
        "pgdwst_dataset = [deepcopy(data) for data in test_dataset]\n",
        "\n",
        "for i in tqdm(range(len(test_dataset))):\n",
        "    data = test_dataset[i].to(device)\n",
        "    edge_index = data.edge_index\n",
        "    dataA = to_dense_adj(edge_index)[0].clone()\n",
        "    K = (data.x) @ (data.x).T\n",
        "    if dataA.shape[0] == data.x.shape[0]:\n",
        "      n = dataA.shape[0]\n",
        "      num = int(n*n*0.05)\n",
        "      attack_instance = Attacks(dataA, K, m=num, filter = 'adj_norm_self_loop').to(device)\n",
        "\n",
        "      A_pgd_avg = attack_instance.Prob_PGD().clone().detach()\n",
        "      A_pgd_wst = attack_instance.Wst_PGD().clone().detach()\n",
        "      A_random = attack_instance.randomAttack().clone().detach()\n",
        "    else:\n",
        "      print('Miss matched data: no operation')\n",
        "      A_pgd_avg = dataA.clone().detach()\n",
        "      A_pgd_wst = dataA.clone().detach()\n",
        "      A_random = dataA.clone().detach()\n",
        "\n",
        "    random_edge_index = torch.tensor(A_random).nonzero(as_tuple=False).t().contiguous()\n",
        "    pgdavg_edge_index = torch.tensor(A_pgd_avg).nonzero(as_tuple=False).t().contiguous()\n",
        "    pgdwst_edge_index = torch.tensor(A_pgd_wst).nonzero(as_tuple=False).t().contiguous()\n",
        "\n",
        "    random_dataset[i].edge_index = random_edge_index\n",
        "    pgdavg_dataset[i].edge_index = pgdavg_edge_index\n",
        "    pgdwst_dataset[i].edge_index = pgdwst_edge_index"
      ],
      "metadata": {
        "colab": {
          "base_uri": "https://localhost:8080/",
          "height": 176,
          "referenced_widgets": [
            "b0afbe99ced84162b4895819da3575a7",
            "260a8d49c60b4ab5905f5a20ee79df45",
            "658be4dc9822472fb3366995051ccb89",
            "c249edb6aa9746a9b7e12cec6a5d7360",
            "1111f66c26a541a18411cb8737093704",
            "26eed1dfb9d1445eaf44f4ffeb839b62",
            "85ecbbd8d4d94ab29a3ec7c7d7a74316",
            "ebac1f2386c242519ddfc54cc0ccd337",
            "218648cec8d74030bbf3d61ddd47b089",
            "635a0e39f11d4d77a6091b7614385b69",
            "7c6d6a9e9a634dc1b21c5e57c56348cf"
          ]
        },
        "id": "cygAWjLHMtkU",
        "outputId": "4cb14f74-1948-4112-deb9-838c8f4cbe67"
      },
      "execution_count": 70,
      "outputs": [
        {
          "output_type": "display_data",
          "data": {
            "text/plain": [
              "  0%|          | 0/38 [00:00<?, ?it/s]"
            ],
            "application/vnd.jupyter.widget-view+json": {
              "version_major": 2,
              "version_minor": 0,
              "model_id": "b0afbe99ced84162b4895819da3575a7"
            }
          },
          "metadata": {}
        },
        {
          "output_type": "stream",
          "name": "stderr",
          "text": [
            "<ipython-input-70-af61cbecb826>:24: UserWarning: To copy construct from a tensor, it is recommended to use sourceTensor.clone().detach() or sourceTensor.clone().detach().requires_grad_(True), rather than torch.tensor(sourceTensor).\n",
            "  random_edge_index = torch.tensor(A_random).nonzero(as_tuple=False).t().contiguous()\n",
            "<ipython-input-70-af61cbecb826>:25: UserWarning: To copy construct from a tensor, it is recommended to use sourceTensor.clone().detach() or sourceTensor.clone().detach().requires_grad_(True), rather than torch.tensor(sourceTensor).\n",
            "  pgdavg_edge_index = torch.tensor(A_pgd_avg).nonzero(as_tuple=False).t().contiguous()\n",
            "<ipython-input-70-af61cbecb826>:26: UserWarning: To copy construct from a tensor, it is recommended to use sourceTensor.clone().detach() or sourceTensor.clone().detach().requires_grad_(True), rather than torch.tensor(sourceTensor).\n",
            "  pgdwst_edge_index = torch.tensor(A_pgd_wst).nonzero(as_tuple=False).t().contiguous()\n"
          ]
        }
      ]
    },
    {
      "cell_type": "code",
      "execution_count": 71,
      "metadata": {
        "colab": {
          "base_uri": "https://localhost:8080/"
        },
        "id": "2wbk6tbxpN-c",
        "outputId": "ef76b281-72c9-408b-a997-7c3d6b51adae"
      },
      "outputs": [
        {
          "output_type": "stream",
          "name": "stdout",
          "text": [
            "-----Iteration 0-----\n",
            "Test Acc: 0.7105\n",
            "PGD-AVG Test Acc: 0.4211\n",
            "PGD-WST Test Acc: 0.6842\n",
            "Random Test Acc: 0.7105\n",
            "-----Iteration 1-----\n",
            "Test Acc: 0.6842\n",
            "PGD-AVG Test Acc: 0.3947\n",
            "PGD-WST Test Acc: 0.6579\n",
            "Random Test Acc: 0.7368\n",
            "-----Iteration 2-----\n",
            "Test Acc: 0.6842\n",
            "PGD-AVG Test Acc: 0.3947\n",
            "PGD-WST Test Acc: 0.6842\n",
            "Random Test Acc: 0.7368\n",
            "-----Iteration 3-----\n",
            "Test Acc: 0.6579\n",
            "PGD-AVG Test Acc: 0.3947\n",
            "PGD-WST Test Acc: 0.6842\n",
            "Random Test Acc: 0.7368\n",
            "-----Iteration 4-----\n",
            "Test Acc: 0.6842\n",
            "PGD-AVG Test Acc: 0.4211\n",
            "PGD-WST Test Acc: 0.7105\n",
            "Random Test Acc: 0.7368\n",
            "-----Iteration 5-----\n",
            "Test Acc: 0.7105\n",
            "PGD-AVG Test Acc: 0.5263\n",
            "PGD-WST Test Acc: 0.6842\n",
            "Random Test Acc: 0.7105\n",
            "-----Iteration 6-----\n",
            "Test Acc: 0.6842\n",
            "PGD-AVG Test Acc: 0.3947\n",
            "PGD-WST Test Acc: 0.6579\n",
            "Random Test Acc: 0.7368\n",
            "-----Iteration 7-----\n",
            "Test Acc: 0.7105\n",
            "PGD-AVG Test Acc: 0.4211\n",
            "PGD-WST Test Acc: 0.6842\n",
            "Random Test Acc: 0.7105\n",
            "-----Iteration 8-----\n",
            "Test Acc: 0.6842\n",
            "PGD-AVG Test Acc: 0.3947\n",
            "PGD-WST Test Acc: 0.6842\n",
            "Random Test Acc: 0.7368\n",
            "-----Iteration 9-----\n",
            "Test Acc: 0.6842\n",
            "PGD-AVG Test Acc: 0.3947\n",
            "PGD-WST Test Acc: 0.6842\n",
            "Random Test Acc: 0.7368\n"
          ]
        }
      ],
      "source": [
        "rep_num = 10\n",
        "list_acc_pgdavg = []\n",
        "list_acc_pgdwst = []\n",
        "list_acc_random = []\n",
        "list_acc = []\n",
        "list_embed_pgdavg = []\n",
        "list_embed_pgdwst = []\n",
        "list_embed_random = []\n",
        "\n",
        "for l in range(rep_num):\n",
        "\n",
        "  embed_pgdavg = []\n",
        "  embed_pgdwst = []\n",
        "  embed_random = []\n",
        "\n",
        "  # Re-train model in repeating experiment\n",
        "  model.apply(reset_weights)\n",
        "  num_epochs = 50\n",
        "  for epoch in range(num_epochs):\n",
        "    loss = train()\n",
        "    train_acc = test(train_loader)\n",
        "    test_acc = test(test_loader)\n",
        "    train_acc_list.append(train_acc)\n",
        "    test_acc_list.append(test_acc)\n",
        "\n",
        "  model.eval()\n",
        "  for i in (range(len(test_dataset))):\n",
        "    data = test_dataset[i].to(device)\n",
        "    avg_data = pgdavg_dataset[i].to(device)\n",
        "    wst_data = pgdwst_dataset[i].to(device)\n",
        "    random_data = random_dataset[i].to(device)\n",
        "    with torch.no_grad():\n",
        "      ebd_test = model.get_ebd(data.x, data.edge_index)\n",
        "      ebd_pgd_avg = model.get_ebd(data.x, avg_data.edge_index )\n",
        "      ebd_pgd_wst = model.get_ebd(data.x, wst_data.edge_index)\n",
        "      ebd_random = model.get_ebd(data.x, random_data.edge_index)\n",
        "\n",
        "      embed_pgdavg.append(torch.norm(ebd_test - ebd_pgd_avg, p = 'fro'))\n",
        "      embed_pgdwst.append(torch.norm(ebd_test - ebd_pgd_wst, p = 'fro'))\n",
        "      embed_random.append(torch.norm(ebd_test - ebd_random, p = 'fro'))\n",
        "\n",
        "  pgdavg_test_loader = DataLoader(pgdavg_dataset, batch_size=len(pgdavg_dataset), shuffle=False)\n",
        "  pgdwst_test_loader = DataLoader(pgdwst_dataset, batch_size=len(pgdwst_dataset), shuffle=False)\n",
        "  random_test_loader = DataLoader(random_dataset, batch_size=len(random_dataset), shuffle=False)\n",
        "\n",
        "  list_embed_pgdavg.append(sum(embed_pgdavg).item()/len(test_dataset))\n",
        "  list_embed_pgdwst.append(sum(embed_pgdwst).item()/len(test_dataset))\n",
        "  list_embed_random.append(sum(embed_random).item()/len(test_dataset))\n",
        "\n",
        "  print(f\"-----Iteration {l:d}-----\")\n",
        "  print(f\"Test Acc: {test_acc:.4f}\")\n",
        "  list_acc.append(test_acc)\n",
        "  pgdavg_test_acc = test(pgdavg_test_loader)\n",
        "  list_acc_pgdavg.append(pgdavg_test_acc)\n",
        "  print(f\"PGD-AVG Test Acc: {pgdavg_test_acc:.4f}\")\n",
        "\n",
        "  pgdwst_test_acc = test(pgdwst_test_loader)\n",
        "  list_acc_pgdwst.append(pgdwst_test_acc)\n",
        "  print(f\"PGD-WST Test Acc: {pgdwst_test_acc:.4f}\")\n",
        "\n",
        "  random_test_acc = test(random_test_loader)\n",
        "  list_acc_random.append(random_test_acc)\n",
        "  print(f\"Random Test Acc: {random_test_acc:.4f}\")\n"
      ]
    },
    {
      "cell_type": "code",
      "source": [
        "print(f\"Test: {np.mean(list_acc)*100:.2f}, std:{np.std(list_acc)*100:.2f}\")\n",
        "print(f\"Mean of random: {np.mean(list_acc_random)*100:.2f}, std:{np.std(list_acc_random)*100:.2f}\")\n",
        "print(f\"Mean of Wst_PGD: {np.mean(list_acc_pgdwst)*100:.2f}, std: {np.std(list_acc_pgdwst)*100:.2f}\")\n",
        "print(f\"Mean of Prob_PGD:{np.mean(list_acc_pgdavg)*100:.2f}, std: {np.std(list_acc_pgdavg):.2f}\")\n"
      ],
      "metadata": {
        "colab": {
          "base_uri": "https://localhost:8080/"
        },
        "id": "hrjHDysUc_cB",
        "outputId": "e66944c3-f612-4fbc-8992-145fe487cb80"
      },
      "execution_count": 72,
      "outputs": [
        {
          "output_type": "stream",
          "name": "stdout",
          "text": [
            "Test: 68.95, std:1.58\n",
            "Mean of random: 72.89, std:1.21\n",
            "Mean of Wst_PGD: 68.16, std: 1.42\n",
            "Mean of Prob_PGD:41.58, std: 0.04\n"
          ]
        }
      ]
    },
    {
      "cell_type": "code",
      "source": [
        "print(f\"Mean of random embedding norm: {np.mean(list_embed_random):.2f}, std:{np.std(list_embed_random):.2f}\")\n",
        "print(f\"Mean of Wst_PGD embedding norm: {np.mean(list_embed_pgdwst):.2f}, std: {np.std(list_embed_pgdwst):.2f}\")\n",
        "print(f\"Mean of Prob_PGD embedding norm:{np.mean(list_embed_pgdavg):.2f}, std: {np.std(list_embed_pgdavg):.2f}\")"
      ],
      "metadata": {
        "colab": {
          "base_uri": "https://localhost:8080/"
        },
        "id": "u4QSSbYwrrGo",
        "outputId": "9222eddb-eede-4b08-a193-64294493f172"
      },
      "execution_count": 73,
      "outputs": [
        {
          "output_type": "stream",
          "name": "stdout",
          "text": [
            "Mean of random embedding norm: 3.57, std:0.17\n",
            "Mean of Wst_PGD embedding norm: 3.10, std: 0.16\n",
            "Mean of Prob_PGD embedding norm:5.21, std: 0.25\n"
          ]
        }
      ]
    },
    {
      "cell_type": "code",
      "execution_count": 74,
      "metadata": {
        "colab": {
          "base_uri": "https://localhost:8080/",
          "height": 601
        },
        "id": "XYDoDuK-Df17",
        "outputId": "34bc163d-05df-4d69-f49d-356a3accc2ef"
      },
      "outputs": [
        {
          "output_type": "stream",
          "name": "stderr",
          "text": [
            "<ipython-input-74-de5d6de50e7c>:2: MatplotlibDeprecationWarning: The 'labels' parameter of boxplot() has been renamed 'tick_labels' since Matplotlib 3.9; support for the old name will be dropped in 3.11.\n",
            "  plt.boxplot([\n"
          ]
        },
        {
          "output_type": "display_data",
          "data": {
            "text/plain": [
              "<Figure size 600x600 with 1 Axes>"
            ],
            "image/png": "[encoded data removed]"
          },
          "metadata": {}
        }
      ],
      "source": [
        "plt.figure(figsize=(6, 6))\n",
        "plt.boxplot([\n",
        "    [e.cpu() for e in embed_pgdavg],\n",
        "    [e.cpu() for e in embed_pgdwst],\n",
        "    [e.cpu() for e in embed_random]\n",
        "], labels=['Prob-PGD', 'Wst-PGD', 'Random'],showmeans = True)\n",
        "plt.ylabel('Average perturbation (Frob norm)')\n",
        "plt.title('2-layer GCN embedding perturbation')\n",
        "plt.show()"
      ]
    },
    {
      "cell_type": "code",
      "source": [
        "print(f\"Test: {np.mean(list_acc)*100:.2f} \\pm {np.std(list_acc)*100:.2f}\")\n",
        "print(f\"Mean of random: {np.mean(list_acc_random)*100:.2f} \\pm {np.std(list_acc_random)*100:.2f}\")\n",
        "print(f\"Mean of Wst_PGD: {np.mean(list_acc_pgdwst)*100:.2f} \\pm {np.std(list_acc_pgdwst)*100:.2f}\")\n",
        "print(f\"Mean of Prob_PGD:{np.mean(list_acc_pgdavg)*100:.2f} \\pm {np.std(list_acc_pgdavg):.2f}\")\n",
        "print(f\"Mean of random embedding norm: {np.mean(list_embed_random):.2f} \\pm {np.std(list_embed_random):.2f}\")\n",
        "print(f\"Mean of Wst_PGD embedding norm: {np.mean(list_embed_pgdwst):.2f} \\pm {np.std(list_embed_pgdwst):.2f}\")\n",
        "print(f\"Mean of Prob_PGD embedding norm:{np.mean(list_embed_pgdavg):.2f} \\pm {np.std(list_embed_pgdavg):.2f}\")"
      ],
      "metadata": {
        "colab": {
          "base_uri": "https://localhost:8080/"
        },
        "id": "9t9RLe8m-zM4",
        "outputId": "779e3d97-bbe8-47b7-af3e-5df42992b695"
      },
      "execution_count": 75,
      "outputs": [
        {
          "output_type": "stream",
          "name": "stdout",
          "text": [
            "Test: 68.95 \\pm 1.58\n",
            "Mean of random: 72.89 \\pm 1.21\n",
            "Mean of Wst_PGD: 68.16 \\pm 1.42\n",
            "Mean of Prob_PGD:41.58 \\pm 0.04\n",
            "Mean of random embedding norm: 3.57 \\pm 0.17\n",
            "Mean of Wst_PGD embedding norm: 3.10 \\pm 0.16\n",
            "Mean of Prob_PGD embedding norm:5.21 \\pm 0.25\n"
          ]
        }
      ]
    }
  ],
  "metadata": {
    "colab": {
      "machine_shape": "hm",
      "provenance": []
    },
    "kernelspec": {
      "display_name": "Python 3",
      "name": "python3"
    },
    "language_info": {
      "name": "python"
    },
    "widgets": {
      "application/vnd.jupyter.widget-state+json": {
        "b0afbe99ced84162b4895819da3575a7": {
          "model_module": "@jupyter-widgets/controls",
          "model_name": "HBoxModel",
          "model_module_version": "1.5.0",
          "state": {
            "_dom_classes": [],
            "_model_module": "@jupyter-widgets/controls",
            "_model_module_version": "1.5.0",
            "_model_name": "HBoxModel",
            "_view_count": null,
            "_view_module": "@jupyter-widgets/controls",
            "_view_module_version": "1.5.0",
            "_view_name": "HBoxView",
            "box_style": "",
            "children": [
              "IPY_MODEL_260a8d49c60b4ab5905f5a20ee79df45",
              "IPY_MODEL_658be4dc9822472fb3366995051ccb89",
              "IPY_MODEL_c249edb6aa9746a9b7e12cec6a5d7360"
            ],
            "layout": "IPY_MODEL_1111f66c26a541a18411cb8737093704"
          }
        },
        "260a8d49c60b4ab5905f5a20ee79df45": {
          "model_module": "@jupyter-widgets/controls",
          "model_name": "HTMLModel",
          "model_module_version": "1.5.0",
          "state": {
            "_dom_classes": [],
            "_model_module": "@jupyter-widgets/controls",
            "_model_module_version": "1.5.0",
            "_model_name": "HTMLModel",
            "_view_count": null,
            "_view_module": "@jupyter-widgets/controls",
            "_view_module_version": "1.5.0",
            "_view_name": "HTMLView",
            "description": "",
            "description_tooltip": null,
            "layout": "IPY_MODEL_26eed1dfb9d1445eaf44f4ffeb839b62",
            "placeholder": "​",
            "style": "IPY_MODEL_85ecbbd8d4d94ab29a3ec7c7d7a74316",
            "value": "100%"
          }
        },
        "658be4dc9822472fb3366995051ccb89": {
          "model_module": "@jupyter-widgets/controls",
          "model_name": "FloatProgressModel",
          "model_module_version": "1.5.0",
          "state": {
            "_dom_classes": [],
            "_model_module": "@jupyter-widgets/controls",
            "_model_module_version": "1.5.0",
            "_model_name": "FloatProgressModel",
            "_view_count": null,
            "_view_module": "@jupyter-widgets/controls",
            "_view_module_version": "1.5.0",
            "_view_name": "ProgressView",
            "bar_style": "success",
            "description": "",
            "description_tooltip": null,
            "layout": "IPY_MODEL_ebac1f2386c242519ddfc54cc0ccd337",
            "max": 38,
            "min": 0,
            "orientation": "horizontal",
            "style": "IPY_MODEL_218648cec8d74030bbf3d61ddd47b089",
            "value": 38
          }
        },
        "c249edb6aa9746a9b7e12cec6a5d7360": {
          "model_module": "@jupyter-widgets/controls",
          "model_name": "HTMLModel",
          "model_module_version": "1.5.0",
          "state": {
            "_dom_classes": [],
            "_model_module": "@jupyter-widgets/controls",
            "_model_module_version": "1.5.0",
            "_model_name": "HTMLModel",
            "_view_count": null,
            "_view_module": "@jupyter-widgets/controls",
            "_view_module_version": "1.5.0",
            "_view_name": "HTMLView",
            "description": "",
            "description_tooltip": null,
            "layout": "IPY_MODEL_635a0e39f11d4d77a6091b7614385b69",
            "placeholder": "​",
            "style": "IPY_MODEL_7c6d6a9e9a634dc1b21c5e57c56348cf",
            "value": " 38/38 [00:10&lt;00:00,  3.65it/s]"
          }
        },
        "1111f66c26a541a18411cb8737093704": {
          "model_module": "@jupyter-widgets/base",
          "model_name": "LayoutModel",
          "model_module_version": "1.2.0",
          "state": {
            "_model_module": "@jupyter-widgets/base",
            "_model_module_version": "1.2.0",
            "_model_name": "LayoutModel",
            "_view_count": null,
            "_view_module": "@jupyter-widgets/base",
            "_view_module_version": "1.2.0",
            "_view_name": "LayoutView",
            "align_content": null,
            "align_items": null,
            "align_self": null,
            "border": null,
            "bottom": null,
            "display": null,
            "flex": null,
            "flex_flow": null,
            "grid_area": null,
            "grid_auto_columns": null,
            "grid_auto_flow": null,
            "grid_auto_rows": null,
            "grid_column": null,
            "grid_gap": null,
            "grid_row": null,
            "grid_template_areas": null,
            "grid_template_columns": null,
            "grid_template_rows": null,
            "height": null,
            "justify_content": null,
            "justify_items": null,
            "left": null,
            "margin": null,
            "max_height": null,
            "max_width": null,
            "min_height": null,
            "min_width": null,
            "object_fit": null,
            "object_position": null,
            "order": null,
            "overflow": null,
            "overflow_x": null,
            "overflow_y": null,
            "padding": null,
            "right": null,
            "top": null,
            "visibility": null,
            "width": null
          }
        },
        "26eed1dfb9d1445eaf44f4ffeb839b62": {
          "model_module": "@jupyter-widgets/base",
          "model_name": "LayoutModel",
          "model_module_version": "1.2.0",
          "state": {
            "_model_module": "@jupyter-widgets/base",
            "_model_module_version": "1.2.0",
            "_model_name": "LayoutModel",
            "_view_count": null,
            "_view_module": "@jupyter-widgets/base",
            "_view_module_version": "1.2.0",
            "_view_name": "LayoutView",
            "align_content": null,
            "align_items": null,
            "align_self": null,
            "border": null,
            "bottom": null,
            "display": null,
            "flex": null,
            "flex_flow": null,
            "grid_area": null,
            "grid_auto_columns": null,
            "grid_auto_flow": null,
            "grid_auto_rows": null,
            "grid_column": null,
            "grid_gap": null,
            "grid_row": null,
            "grid_template_areas": null,
            "grid_template_columns": null,
            "grid_template_rows": null,
            "height": null,
            "justify_content": null,
            "justify_items": null,
            "left": null,
            "margin": null,
            "max_height": null,
            "max_width": null,
            "min_height": null,
            "min_width": null,
            "object_fit": null,
            "object_position": null,
            "order": null,
            "overflow": null,
            "overflow_x": null,
            "overflow_y": null,
            "padding": null,
            "right": null,
            "top": null,
            "visibility": null,
            "width": null
          }
        },
        "85ecbbd8d4d94ab29a3ec7c7d7a74316": {
          "model_module": "@jupyter-widgets/controls",
          "model_name": "DescriptionStyleModel",
          "model_module_version": "1.5.0",
          "state": {
            "_model_module": "@jupyter-widgets/controls",
            "_model_module_version": "1.5.0",
            "_model_name": "DescriptionStyleModel",
            "_view_count": null,
            "_view_module": "@jupyter-widgets/base",
            "_view_module_version": "1.2.0",
            "_view_name": "StyleView",
            "description_width": ""
          }
        },
        "ebac1f2386c242519ddfc54cc0ccd337": {
          "model_module": "@jupyter-widgets/base",
          "model_name": "LayoutModel",
          "model_module_version": "1.2.0",
          "state": {
            "_model_module": "@jupyter-widgets/base",
            "_model_module_version": "1.2.0",
            "_model_name": "LayoutModel",
            "_view_count": null,
            "_view_module": "@jupyter-widgets/base",
            "_view_module_version": "1.2.0",
            "_view_name": "LayoutView",
            "align_content": null,
            "align_items": null,
            "align_self": null,
            "border": null,
            "bottom": null,
            "display": null,
            "flex": null,
            "flex_flow": null,
            "grid_area": null,
            "grid_auto_columns": null,
            "grid_auto_flow": null,
            "grid_auto_rows": null,
            "grid_column": null,
            "grid_gap": null,
            "grid_row": null,
            "grid_template_areas": null,
            "grid_template_columns": null,
            "grid_template_rows": null,
            "height": null,
            "justify_content": null,
            "justify_items": null,
            "left": null,
            "margin": null,
            "max_height": null,
            "max_width": null,
            "min_height": null,
            "min_width": null,
            "object_fit": null,
            "object_position": null,
            "order": null,
            "overflow": null,
            "overflow_x": null,
            "overflow_y": null,
            "padding": null,
            "right": null,
            "top": null,
            "visibility": null,
            "width": null
          }
        },
        "218648cec8d74030bbf3d61ddd47b089": {
          "model_module": "@jupyter-widgets/controls",
          "model_name": "ProgressStyleModel",
          "model_module_version": "1.5.0",
          "state": {
            "_model_module": "@jupyter-widgets/controls",
            "_model_module_version": "1.5.0",
            "_model_name": "ProgressStyleModel",
            "_view_count": null,
            "_view_module": "@jupyter-widgets/base",
            "_view_module_version": "1.2.0",
            "_view_name": "StyleView",
            "bar_color": null,
            "description_width": ""
          }
        },
        "635a0e39f11d4d77a6091b7614385b69": {
          "model_module": "@jupyter-widgets/base",
          "model_name": "LayoutModel",
          "model_module_version": "1.2.0",
          "state": {
            "_model_module": "@jupyter-widgets/base",
            "_model_module_version": "1.2.0",
            "_model_name": "LayoutModel",
            "_view_count": null,
            "_view_module": "@jupyter-widgets/base",
            "_view_module_version": "1.2.0",
            "_view_name": "LayoutView",
            "align_content": null,
            "align_items": null,
            "align_self": null,
            "border": null,
            "bottom": null,
            "display": null,
            "flex": null,
            "flex_flow": null,
            "grid_area": null,
            "grid_auto_columns": null,
            "grid_auto_flow": null,
            "grid_auto_rows": null,
            "grid_column": null,
            "grid_gap": null,
            "grid_row": null,
            "grid_template_areas": null,
            "grid_template_columns": null,
            "grid_template_rows": null,
            "height": null,
            "justify_content": null,
            "justify_items": null,
            "left": null,
            "margin": null,
            "max_height": null,
            "max_width": null,
            "min_height": null,
            "min_width": null,
            "object_fit": null,
            "object_position": null,
            "order": null,
            "overflow": null,
            "overflow_x": null,
            "overflow_y": null,
            "padding": null,
            "right": null,
            "top": null,
            "visibility": null,
            "width": null
          }
        },
        "7c6d6a9e9a634dc1b21c5e57c56348cf": {
          "model_module": "@jupyter-widgets/controls",
          "model_name": "DescriptionStyleModel",
          "model_module_version": "1.5.0",
          "state": {
            "_model_module": "@jupyter-widgets/controls",
            "_model_module_version": "1.5.0",
            "_model_name": "DescriptionStyleModel",
            "_view_count": null,
            "_view_module": "@jupyter-widgets/base",
            "_view_module_version": "1.2.0",
            "_view_name": "StyleView",
            "description_width": ""
          }
        }
      }
    }
  },
  "nbformat": 4,
  "nbformat_minor": 0
}