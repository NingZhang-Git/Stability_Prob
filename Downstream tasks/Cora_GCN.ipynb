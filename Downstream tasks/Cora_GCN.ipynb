{
  "cells": [
    {
      "cell_type": "code",
      "execution_count": 1,
      "metadata": {
        "id": "0PAH0IIgtaFE"
      },
      "outputs": [],
      "source": [
        "# Download the corresponding PyTorch Geometric module\n",
        "%%capture\n",
        "\"\"\"\n",
        "Assign to TORCH with what you get from the cell above, E.g., export TORCH=1.13.1+cu113\n",
        "\"\"\"\n",
        "%env TORCH=2.1.0+cu118\n",
        "!pip install torch-scatter -f https://data.pyg.org/whl/torch-${TORCH}.html\n",
        "!pip install torch-sparse -f https://data.pyg.org/whl/torch-${TORCH}.html\n",
        "!pip install torch-geometric"
      ]
    },
    {
      "cell_type": "code",
      "execution_count": 2,
      "metadata": {
        "id": "cEuOswTPtuWe",
        "colab": {
          "base_uri": "https://localhost:8080/"
        },
        "outputId": "de213a71-2590-424a-bbf0-cb760a1985c3"
      },
      "outputs": [
        {
          "output_type": "stream",
          "name": "stderr",
          "text": [
            "/usr/local/lib/python3.11/dist-packages/torch_geometric/typing.py:86: UserWarning: An issue occurred while importing 'torch-scatter'. Disabling its usage. Stacktrace: /usr/local/lib/python3.11/dist-packages/torch_scatter/_version_cuda.so: undefined symbol: _ZN3c1017RegisterOperatorsD1Ev\n",
            "  warnings.warn(f\"An issue occurred while importing 'torch-scatter'. \"\n",
            "/usr/local/lib/python3.11/dist-packages/torch_geometric/typing.py:124: UserWarning: An issue occurred while importing 'torch-sparse'. Disabling its usage. Stacktrace: /usr/local/lib/python3.11/dist-packages/torch_sparse/_version_cuda.so: undefined symbol: _ZN3c1017RegisterOperatorsD1Ev\n",
            "  warnings.warn(f\"An issue occurred while importing 'torch-sparse'. \"\n"
          ]
        }
      ],
      "source": [
        "import torch\n",
        "import torch.nn as nn\n",
        "import torch.optim as optim\n",
        "import torch_geometric\n",
        "from torch_geometric.datasets import Planetoid\n",
        "from torch_geometric.nn import GCNConv\n",
        "from torch_geometric.data import DataLoader\n",
        "import torch.nn.functional as F"
      ]
    },
    {
      "cell_type": "code",
      "execution_count": 3,
      "metadata": {
        "id": "Jl5Culw_twBY",
        "colab": {
          "base_uri": "https://localhost:8080/"
        },
        "outputId": "4a864dde-57a7-43e3-fdb2-522fbc301b07"
      },
      "outputs": [
        {
          "output_type": "stream",
          "name": "stderr",
          "text": [
            "Downloading https://github.com/kimiyoung/planetoid/raw/master/data/ind.cora.x\n",
            "Downloading https://github.com/kimiyoung/planetoid/raw/master/data/ind.cora.tx\n",
            "Downloading https://github.com/kimiyoung/planetoid/raw/master/data/ind.cora.allx\n",
            "Downloading https://github.com/kimiyoung/planetoid/raw/master/data/ind.cora.y\n",
            "Downloading https://github.com/kimiyoung/planetoid/raw/master/data/ind.cora.ty\n",
            "Downloading https://github.com/kimiyoung/planetoid/raw/master/data/ind.cora.ally\n",
            "Downloading https://github.com/kimiyoung/planetoid/raw/master/data/ind.cora.graph\n",
            "Downloading https://github.com/kimiyoung/planetoid/raw/master/data/ind.cora.test.index\n",
            "Processing...\n",
            "Done!\n"
          ]
        }
      ],
      "source": [
        "# # Load the Cora dataset\n",
        "dataset = Planetoid(root='/tmp/Cora', name='Cora')\n",
        "data = dataset[0]\n",
        "\n",
        "\n",
        "# Check if CUDA is available and use it\n",
        "device = torch.device('cuda' if torch.cuda.is_available() else 'cpu')\n",
        "\n",
        "# Move the data to the device (GPU if available)\n",
        "data = data.to(device)"
      ]
    },
    {
      "cell_type": "code",
      "execution_count": 4,
      "metadata": {
        "id": "HYMcf6Rxt0wf"
      },
      "outputs": [],
      "source": [
        "class GCN(nn.Module):\n",
        "    def __init__(self, in_channels, hidden_channels, out_channels):\n",
        "        super(GCN, self).__init__()\n",
        "        self.conv1 = GCNConv(in_channels, hidden_channels)\n",
        "        self.conv2 = GCNConv(hidden_channels, out_channels)\n",
        "\n",
        "    def forward(self, x, edge_index):\n",
        "        # First GCN layer with ReLU activation and dropout\n",
        "        x = self.conv1(x, edge_index)\n",
        "        x = torch.relu(x)\n",
        "        # Second GCN layer\n",
        "        x = self.conv2(x, edge_index)\n",
        "        return F.log_softmax(x, dim=1)\n",
        "\n",
        "    def get_ebd(self, x, edge_index):\n",
        "        x = F.relu(self.conv1(x, edge_index))\n",
        "        x = F.relu(self.conv2(x, edge_index))\n",
        "        return x\n"
      ]
    },
    {
      "cell_type": "code",
      "execution_count": 5,
      "metadata": {
        "id": "6sUplL13t4c4"
      },
      "outputs": [],
      "source": [
        "# Training the model\n",
        "def train(model, data, optimizer, criterion, epochs=200):\n",
        "    model.train()\n",
        "    for epoch in range(epochs):\n",
        "        optimizer.zero_grad()\n",
        "        # Get the node features (data.x) and edge indices (data.edge_index)\n",
        "        out = model(data.x, data.edge_index)\n",
        "        loss = criterion(out[data.train_mask], data.y[data.train_mask])\n",
        "        loss.backward()\n",
        "        optimizer.step()\n",
        "\n",
        "        # if epoch % 20 == 0:\n",
        "        #     print(f'Epoch {epoch+1}/{epochs}, Loss: {loss.item():.4f}')\n",
        "\n",
        "# Evaluate the model\n",
        "def evaluate(model, data):\n",
        "    model.eval()\n",
        "    with torch.no_grad():\n",
        "        out = model(data.x, data.edge_index)\n",
        "        pred = out.argmax(dim=1)\n",
        "        correct = (pred[data.test_mask] == data.y[data.test_mask]).sum()\n",
        "        acc = correct / data.test_mask.sum()\n",
        "        return acc.item()\n",
        "\n",
        "def reset_weights(m):\n",
        "    if isinstance(m, (torch.nn.Linear, GCNConv)):\n",
        "        m.reset_parameters()\n"
      ]
    },
    {
      "cell_type": "code",
      "execution_count": 6,
      "metadata": {
        "id": "QYG6nV6At6Bd"
      },
      "outputs": [],
      "source": [
        "# Model hyperparameters\n",
        "in_channels = dataset.num_node_features  # 1433 (Cora input feature size)\n",
        "hidden_channels = 64\n",
        "out_channels = dataset.num_classes  # 7 (Cora has 7 classes)\n",
        "\n",
        "# Initialize the model\n",
        "model = GCN(in_channels, hidden_channels, out_channels).to(device)\n",
        "\n",
        "# Loss function and optimizer\n",
        "criterion = nn.CrossEntropyLoss()\n",
        "optimizer = optim.Adam(model.parameters(), lr=0.01, weight_decay=5e-4)\n"
      ]
    },
    {
      "cell_type": "code",
      "execution_count": 7,
      "metadata": {
        "colab": {
          "base_uri": "https://localhost:8080/"
        },
        "id": "lHsLxmY6t7od",
        "outputId": "c91bbb58-3c18-4208-bcbe-2cc027275b8e"
      },
      "outputs": [
        {
          "output_type": "stream",
          "name": "stdout",
          "text": [
            "Test accuracy: 0.8050\n"
          ]
        }
      ],
      "source": [
        "# Train the model\n",
        "model.apply(reset_weights)\n",
        "train(model, data, optimizer, criterion, epochs=50)\n",
        "\n",
        "# Evaluate the model\n",
        "acc = evaluate(model, data)\n",
        "print(f'Test accuracy: {acc:.4f}')"
      ]
    },
    {
      "cell_type": "code",
      "execution_count": 8,
      "metadata": {
        "id": "SR8XnfwMvDIg"
      },
      "outputs": [],
      "source": [
        "from torch_geometric.utils import to_dense_adj\n",
        "# Node features (X)\n",
        "x = data.x  # Shape: [num_nodes, num_features]\n",
        "# Adjacency matrix (A)\n",
        "A = to_dense_adj(data.edge_index)[0]  # Shape: [num_nodes, num_nodes]\n",
        "K = (data.x) @ (data.x).T\n",
        "m = 1000"
      ]
    },
    {
      "cell_type": "code",
      "execution_count": 12,
      "metadata": {
        "id": "cmhQkZtZdGIx"
      },
      "outputs": [],
      "source": [
        "from Perturbe_Algs import Attacks\n",
        "from copy import deepcopy\n",
        "# The two algorithms roughtly take 10 minutes each to run on a single GPU(A100).\n",
        "attack_instance = Attacks(A,K,m, alpha = 50, filter = 'adj_norm_self_loop', max_iter=250,).to(device)\n",
        "pgdavg_dataset = deepcopy(data)\n",
        "pgdwst_dataset = deepcopy(data)\n",
        "\n",
        "A_pgd_avg = attack_instance.Prob_PGD().clone().detach()\n",
        "A_pgd_wst = attack_instance.Wst_PGD().clone().detach()\n",
        "\n",
        "pgdavg_dataset.edge_index = torch.tensor(A_pgd_avg).nonzero(as_tuple=False).t().contiguous()\n",
        "pgdwst_dataset.edge_index = torch.tensor(A_pgd_wst).nonzero(as_tuple=False).t().contiguous()\n"
      ]
    },
    {
      "cell_type": "code",
      "execution_count": null,
      "metadata": {
        "colab": {
          "base_uri": "https://localhost:8080/"
        },
        "id": "OlHk4q1tURkr",
        "outputId": "66920a80-8339-4660-c4e0-b0fb6d48f1ae"
      },
      "outputs": [
        {
          "name": "stdout",
          "output_type": "stream",
          "text": [
            "Dataset and adjacency matrix saved successfully to Google Drive.\n"
          ]
        }
      ],
      "source": [
        "# Save the adjacency matrix (A)\n",
        "torch.save(A_pgd_avg, 'avg_adj.pt')\n",
        "torch.save(A_pgd_wst, 'wst_adj.pt')\n",
        "# Save the modified datasets\n",
        "torch.save(pgdavg_dataset, 'cora_pgdavg_data.pt')\n",
        "torch.save(pgdwst_dataset, 'cora_pgdwst_data.pt')\n",
        "print(\"Dataset and adjacency matrix saved.\")"
      ]
    },
    {
      "cell_type": "code",
      "execution_count": 14,
      "metadata": {
        "id": "I70kh28_F6_f"
      },
      "outputs": [],
      "source": [
        "# Load the attacked graph adjacency matrix from folder 'cora_adj_norm'\n",
        "pgdavg_dataset = torch.load('cora_pgdavg_data.pt', weights_only=False)\n",
        "pgdwst_dataset = torch.load('cora_pgdwst_data.pt', weights_only=False)"
      ]
    },
    {
      "cell_type": "code",
      "execution_count": 15,
      "metadata": {
        "colab": {
          "base_uri": "https://localhost:8080/"
        },
        "id": "JvXbtfZGOFul",
        "outputId": "8a54497d-13f7-4c06-c663-fdab98100df9"
      },
      "outputs": [
        {
          "output_type": "stream",
          "name": "stderr",
          "text": [
            "<ipython-input-15-2325630108>:15: UserWarning: To copy construct from a tensor, it is recommended to use sourceTensor.clone().detach() or sourceTensor.clone().detach().requires_grad_(True), rather than torch.tensor(sourceTensor).\n",
            "  random_dataset.edge_index = torch.tensor(A_random).nonzero(as_tuple=False).t().contiguous()\n"
          ]
        },
        {
          "output_type": "stream",
          "name": "stdout",
          "text": [
            "-----Iteration 0-----\n",
            "Test Acc: 0.7940\n",
            "PGD-AVG Test Acc: 0.7750\n",
            "PGD-WST Test Acc: 0.7810\n",
            "Random Test Acc: 0.7770\n",
            "-----Iteration 1-----\n",
            "Test Acc: 0.7970\n",
            "PGD-AVG Test Acc: 0.7820\n",
            "PGD-WST Test Acc: 0.7880\n",
            "Random Test Acc: 0.7790\n",
            "-----Iteration 2-----\n",
            "Test Acc: 0.7970\n",
            "PGD-AVG Test Acc: 0.7770\n",
            "PGD-WST Test Acc: 0.7800\n",
            "Random Test Acc: 0.7760\n",
            "-----Iteration 3-----\n",
            "Test Acc: 0.7990\n",
            "PGD-AVG Test Acc: 0.7770\n",
            "PGD-WST Test Acc: 0.7820\n",
            "Random Test Acc: 0.7770\n",
            "-----Iteration 4-----\n",
            "Test Acc: 0.8050\n",
            "PGD-AVG Test Acc: 0.7800\n",
            "PGD-WST Test Acc: 0.7880\n",
            "Random Test Acc: 0.7910\n",
            "-----Iteration 5-----\n",
            "Test Acc: 0.8030\n",
            "PGD-AVG Test Acc: 0.7850\n",
            "PGD-WST Test Acc: 0.7870\n",
            "Random Test Acc: 0.7700\n",
            "-----Iteration 6-----\n",
            "Test Acc: 0.8030\n",
            "PGD-AVG Test Acc: 0.7780\n",
            "PGD-WST Test Acc: 0.7910\n",
            "Random Test Acc: 0.7900\n",
            "-----Iteration 7-----\n",
            "Test Acc: 0.8070\n",
            "PGD-AVG Test Acc: 0.7810\n",
            "PGD-WST Test Acc: 0.7870\n",
            "Random Test Acc: 0.7980\n",
            "-----Iteration 8-----\n",
            "Test Acc: 0.8080\n",
            "PGD-AVG Test Acc: 0.7800\n",
            "PGD-WST Test Acc: 0.7870\n",
            "Random Test Acc: 0.7840\n",
            "-----Iteration 9-----\n",
            "Test Acc: 0.7930\n",
            "PGD-AVG Test Acc: 0.7730\n",
            "PGD-WST Test Acc: 0.7760\n",
            "Random Test Acc: 0.7880\n"
          ]
        }
      ],
      "source": [
        "num_rep = 10\n",
        "\n",
        "list_ebd_random = []\n",
        "list_ebd_pgdavg = []\n",
        "list_ebd_pgdwst = []\n",
        "list_acc = []\n",
        "list_acc_random = []\n",
        "list_acc_pgdavg = []\n",
        "list_acc_pgdwst = []\n",
        "\n",
        "for i in range(num_rep):\n",
        "\n",
        "  A_random = attack_instance.randomAttack().clone().detach()\n",
        "  random_dataset = deepcopy(data)\n",
        "  random_dataset.edge_index = torch.tensor(A_random).nonzero(as_tuple=False).t().contiguous()\n",
        "\n",
        "  model.apply(reset_weights)\n",
        "  train(model, data, optimizer, criterion, epochs=50)\n",
        "  test_acc = evaluate(model, data)\n",
        "  acc_random = evaluate(model, random_dataset)\n",
        "  acc_pgdavg = evaluate(model, pgdavg_dataset)\n",
        "  acc_pgdwst = evaluate(model, pgdwst_dataset)\n",
        "\n",
        "  list_acc.append(test_acc)\n",
        "  list_acc_random.append(acc_random)\n",
        "  list_acc_pgdavg.append(acc_pgdavg)\n",
        "  list_acc_pgdwst.append(acc_pgdwst)\n",
        "\n",
        "\n",
        "  ebd = model.get_ebd(data.x, data.edge_index)\n",
        "  ebd_random = model.get_ebd(random_dataset.x, random_dataset.edge_index)\n",
        "  ebd_pgdavg = model.get_ebd(pgdavg_dataset.x, pgdavg_dataset.edge_index)\n",
        "  ebd_pgdwst = model.get_ebd(pgdwst_dataset.x, pgdwst_dataset.edge_index)\n",
        "\n",
        "\n",
        "  p_ebd_random = torch.norm(ebd - ebd_random, p='fro')\n",
        "  p_ebd_pgdavg = torch.norm(ebd - ebd_pgdavg, p='fro')\n",
        "  p_ebd_pgdwst = torch.norm(ebd - ebd_pgdwst, p='fro')\n",
        "\n",
        "  list_ebd_random.append(p_ebd_random.item())\n",
        "  list_ebd_pgdavg.append(p_ebd_pgdavg.item())\n",
        "  list_ebd_pgdwst.append(p_ebd_pgdwst.item())\n",
        "\n",
        "  print(f\"-----Iteration {i:d}-----\")\n",
        "  print(f\"Test Acc: {test_acc:.4f}\")\n",
        "  print(f\"PGD-AVG Test Acc: {acc_pgdavg:.4f}\")\n",
        "  print(f\"PGD-WST Test Acc: {acc_pgdwst:.4f}\")\n",
        "  print(f\"Random Test Acc: {acc_random:.4f}\")\n"
      ]
    },
    {
      "cell_type": "code",
      "execution_count": 16,
      "metadata": {
        "colab": {
          "base_uri": "https://localhost:8080/"
        },
        "id": "PQT7LlXi1Z9m",
        "outputId": "d8e7ced0-1694-475b-82eb-89007ccb99b3"
      },
      "outputs": [
        {
          "output_type": "stream",
          "name": "stdout",
          "text": [
            "Test: 80.06, std:0.51\n",
            "Mean of random: 78.30, std:0.82\n",
            "Mean of Wst_PGD: 78.47, std: 0.44\n",
            "Mean of Prob_PGD:77.88, std: 0.33\n"
          ]
        }
      ],
      "source": [
        "import numpy as np\n",
        "print(f\"Test: {np.mean(list_acc)*100:.2f}, std:{np.std(list_acc)*100:.2f}\")\n",
        "print(f\"Mean of random: {np.mean(list_acc_random)*100:.2f}, std:{np.std(list_acc_random)*100:.2f}\")\n",
        "print(f\"Mean of Wst_PGD: {np.mean(list_acc_pgdwst)*100:.2f}, std: {np.std(list_acc_pgdwst)*100:.2f}\")\n",
        "print(f\"Mean of Prob_PGD:{np.mean(list_acc_pgdavg)*100:.2f}, std: {np.std(list_acc_pgdavg)*100:.2f}\")\n"
      ]
    },
    {
      "cell_type": "code",
      "execution_count": 17,
      "metadata": {
        "colab": {
          "base_uri": "https://localhost:8080/"
        },
        "id": "dPgfy8X262iR",
        "outputId": "21b8438d-e5cf-4a8f-a285-f2411f1deff0"
      },
      "outputs": [
        {
          "output_type": "stream",
          "name": "stdout",
          "text": [
            "Mean of random embedding norm: 93.19, std:3.87\n",
            "Mean of Wst_PGD embedding norm: 96.57, std: 6.76\n",
            "Mean of Prob_PGD embedding norm:106.84, std: 4.53\n"
          ]
        }
      ],
      "source": [
        "print(f\"Mean of random embedding norm: {np.mean(list_ebd_random):.2f}, std:{np.std(list_ebd_random):.2f}\")\n",
        "print(f\"Mean of Wst_PGD embedding norm: {np.mean(list_ebd_pgdwst):.2f}, std: {np.std(list_ebd_pgdwst):.2f}\")\n",
        "print(f\"Mean of Prob_PGD embedding norm:{np.mean(list_ebd_pgdavg):.2f}, std: {np.std(list_ebd_pgdavg):.2f}\")"
      ]
    },
    {
      "cell_type": "code",
      "execution_count": 19,
      "metadata": {
        "colab": {
          "base_uri": "https://localhost:8080/"
        },
        "id": "ZkHHHFCHoLgs",
        "outputId": "e41537b4-7766-4469-fb8c-25d15cdced3a"
      },
      "outputs": [
        {
          "output_type": "stream",
          "name": "stdout",
          "text": [
            "Test: 80.06 \\pm 0.51\n",
            "Mean of random: 78.30 \\pm 0.82\n",
            "Mean of Wst_PGD: 78.47 \\pm 0.44\n",
            "Mean of Prob_PGD:77.88 \\pm 0.33\n",
            "Mean of random embedding norm: 93.19 \\pm 3.87\n",
            "Mean of Wst_PGD embedding norm: 96.57 \\pm 6.76\n",
            "Mean of Prob_PGD embedding norm:106.84 \\pm 4.53\n"
          ]
        }
      ],
      "source": [
        "print(f\"Test: {np.mean(list_acc)*100:.2f} \\pm {np.std(list_acc)*100:.2f}\")\n",
        "print(f\"Mean of random: {np.mean(list_acc_random)*100:.2f} \\pm {np.std(list_acc_random)*100:.2f}\")\n",
        "print(f\"Mean of Wst_PGD: {np.mean(list_acc_pgdwst)*100:.2f} \\pm {np.std(list_acc_pgdwst)*100:.2f}\")\n",
        "print(f\"Mean of Prob_PGD:{np.mean(list_acc_pgdavg)*100:.2f} \\pm {np.std(list_acc_pgdavg)*100:.2f}\")\n",
        "print(f\"Mean of random embedding norm: {np.mean(list_ebd_random):.2f} \\pm {np.std(list_ebd_random):.2f}\")\n",
        "print(f\"Mean of Wst_PGD embedding norm: {np.mean(list_ebd_pgdwst):.2f} \\pm {np.std(list_ebd_pgdwst):.2f}\")\n",
        "print(f\"Mean of Prob_PGD embedding norm:{np.mean(list_ebd_pgdavg):.2f} \\pm {np.std(list_ebd_pgdavg):.2f}\")"
      ]
    }
  ],
  "metadata": {
    "accelerator": "GPU",
    "colab": {
      "gpuType": "A100",
      "machine_shape": "hm",
      "provenance": []
    },
    "kernelspec": {
      "display_name": "Python 3",
      "name": "python3"
    },
    "language_info": {
      "name": "python"
    }
  },
  "nbformat": 4,
  "nbformat_minor": 0
}