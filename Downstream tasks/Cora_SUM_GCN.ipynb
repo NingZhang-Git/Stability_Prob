{
  "cells": [
    {
      "cell_type": "code",
      "execution_count": 1,
      "metadata": {
        "id": "0PAH0IIgtaFE"
      },
      "outputs": [],
      "source": [
        "# Download the corresponding PyTorch Geometric module\n",
        "%%capture\n",
        "\"\"\"\n",
        "Assign to TORCH with what you get from the cell above, E.g., export TORCH=1.13.1+cu113\n",
        "\"\"\"\n",
        "%env TORCH=2.1.0+cu118\n",
        "!pip install torch-scatter -f https://data.pyg.org/whl/torch-${TORCH}.html\n",
        "!pip install torch-sparse -f https://data.pyg.org/whl/torch-${TORCH}.html\n",
        "!pip install torch-geometric"
      ]
    },
    {
      "cell_type": "code",
      "execution_count": 2,
      "metadata": {
        "colab": {
          "base_uri": "https://localhost:8080/"
        },
        "id": "cEuOswTPtuWe",
        "outputId": "8b4d73e2-b07a-4398-d9f6-9af06179f03e"
      },
      "outputs": [
        {
          "name": "stderr",
          "output_type": "stream",
          "text": [
            "/usr/local/lib/python3.11/dist-packages/torch_geometric/typing.py:86: UserWarning: An issue occurred while importing 'torch-scatter'. Disabling its usage. Stacktrace: /usr/local/lib/python3.11/dist-packages/torch_scatter/_version_cuda.so: undefined symbol: _ZN3c1017RegisterOperatorsD1Ev\n",
            "  warnings.warn(f\"An issue occurred while importing 'torch-scatter'. \"\n",
            "/usr/local/lib/python3.11/dist-packages/torch_geometric/typing.py:124: UserWarning: An issue occurred while importing 'torch-sparse'. Disabling its usage. Stacktrace: /usr/local/lib/python3.11/dist-packages/torch_sparse/_version_cuda.so: undefined symbol: _ZN3c1017RegisterOperatorsD1Ev\n",
            "  warnings.warn(f\"An issue occurred while importing 'torch-sparse'. \"\n"
          ]
        }
      ],
      "source": [
        "import torch\n",
        "import torch.nn as nn\n",
        "import torch.optim as optim\n",
        "import torch_geometric\n",
        "from torch_geometric.datasets import Planetoid\n",
        "from torch_geometric.nn import GCNConv\n",
        "from torch_geometric.data import DataLoader\n",
        "import torch.nn.functional as F"
      ]
    },
    {
      "cell_type": "code",
      "execution_count": 3,
      "metadata": {
        "colab": {
          "base_uri": "https://localhost:8080/"
        },
        "id": "Jl5Culw_twBY",
        "outputId": "076fdeb6-1eb4-400c-c1bc-c77a818027db"
      },
      "outputs": [
        {
          "name": "stderr",
          "output_type": "stream",
          "text": [
            "Downloading https://github.com/kimiyoung/planetoid/raw/master/data/ind.cora.x\n",
            "Downloading https://github.com/kimiyoung/planetoid/raw/master/data/ind.cora.tx\n",
            "Downloading https://github.com/kimiyoung/planetoid/raw/master/data/ind.cora.allx\n",
            "Downloading https://github.com/kimiyoung/planetoid/raw/master/data/ind.cora.y\n",
            "Downloading https://github.com/kimiyoung/planetoid/raw/master/data/ind.cora.ty\n",
            "Downloading https://github.com/kimiyoung/planetoid/raw/master/data/ind.cora.ally\n",
            "Downloading https://github.com/kimiyoung/planetoid/raw/master/data/ind.cora.graph\n",
            "Downloading https://github.com/kimiyoung/planetoid/raw/master/data/ind.cora.test.index\n",
            "Processing...\n",
            "Done!\n"
          ]
        }
      ],
      "source": [
        "# # Load the Cora dataset\n",
        "dataset = Planetoid(root='/tmp/Cora', name='Cora')\n",
        "data = dataset[0]\n",
        "\n",
        "\n",
        "# Check if CUDA is available and use it\n",
        "device = torch.device('cuda' if torch.cuda.is_available() else 'cpu')\n",
        "\n",
        "# Move the data to the device (GPU if available)\n",
        "data = data.to(device)"
      ]
    },
    {
      "cell_type": "code",
      "execution_count": null,
      "metadata": {
        "id": "HYMcf6Rxt0wf"
      },
      "outputs": [],
      "source": [
        "import pdb\n",
        "import torch\n",
        "import torch.nn.functional as F\n",
        "from torch_geometric.datasets import TUDataset\n",
        "from torch_geometric.loader import DataLoader\n",
        "from torch_geometric.nn import GCNConv, global_mean_pool, global_max_pool\n",
        "import random\n",
        "from torch_geometric.utils import to_dense_adj\n",
        "\n",
        "from sklearn.metrics import f1_score\n",
        "import numpy as np\n",
        "\n",
        "class SUM_GCN(torch.nn.Module):\n",
        "    def __init__(self, input_dim, hidden_dim, output_dim):\n",
        "        super(SUM_GCN, self).__init__()\n",
        "        self.layer1 = torch.nn.Linear(input_dim, hidden_dim)\n",
        "        self.layer2 = torch.nn.Linear(hidden_dim, hidden_dim)\n",
        "        self.lin = torch.nn.Linear(hidden_dim, output_dim)\n",
        "\n",
        "    def forward(self, x, edge_index):\n",
        "        adj = to_dense_adj(edge_index, max_num_nodes=x.size(0))[0]\n",
        "        # Move torch.eye to the same device as adj\n",
        "        adj_i = adj + torch.eye(adj.size(0), device=adj.device)\n",
        "\n",
        "        aggregated_neighbors0 =  torch.matmul(adj_i, x)\n",
        "        x = self.layer1(aggregated_neighbors0)\n",
        "        x = F.relu(x)\n",
        "\n",
        "        aggregated_neighbors1 = torch.matmul(adj_i, x)\n",
        "        x = self.layer2(aggregated_neighbors1)\n",
        "        x = F.relu(x)\n",
        "\n",
        "        x = self.lin(x)\n",
        "        return x\n",
        "\n",
        "    def get_ebd(self, x, edge_index):\n",
        "        adj = to_dense_adj(edge_index, max_num_nodes=x.size(0))[0]\n",
        "        # Move torch.eye to the same device as adj\n",
        "        adj_i = adj + torch.eye(adj.size(0), device=adj.device)\n",
        "\n",
        "        aggregated_neighbors0 =  torch.matmul(adj_i, x)\n",
        "        x = self.layer1(aggregated_neighbors0)\n",
        "        x = F.relu(x)\n",
        "\n",
        "        aggregated_neighbors1 = torch.matmul(adj_i, x)\n",
        "        x = self.layer2(aggregated_neighbors1)\n",
        "        x = F.relu(x)\n",
        "        return x\n"
      ]
    },
    {
      "cell_type": "code",
      "execution_count": null,
      "metadata": {
        "id": "6sUplL13t4c4"
      },
      "outputs": [],
      "source": [
        "# Training the model\n",
        "def train(model, data, optimizer, criterion, epochs=200):\n",
        "    model.train()\n",
        "    for epoch in range(epochs):\n",
        "        optimizer.zero_grad()\n",
        "        # Get the node features (data.x) and edge indices (data.edge_index)\n",
        "        out = model(data.x, data.edge_index)\n",
        "        loss = criterion(out[data.train_mask], data.y[data.train_mask])\n",
        "        loss.backward()\n",
        "        optimizer.step()\n",
        "\n",
        "        if epoch % 10 == 0:\n",
        "            print(f'Epoch {epoch+1}/{epochs}, Loss: {loss.item():.4f}')\n",
        "\n",
        "# Evaluate the model\n",
        "def evaluate(model, data):\n",
        "    model.eval()\n",
        "    with torch.no_grad():\n",
        "        out = model(data.x, data.edge_index)\n",
        "        pred = out.argmax(dim=1)\n",
        "        correct = (pred[data.test_mask] == data.y[data.test_mask]).sum()\n",
        "        acc = correct / data.test_mask.sum()\n",
        "        return acc.item()\n",
        "    \n",
        "\n",
        "def reset_weights(m):\n",
        "    if isinstance(m, (torch.nn.Linear)):\n",
        "        m.reset_parameters()"
      ]
    },
    {
      "cell_type": "code",
      "execution_count": 31,
      "metadata": {
        "id": "ECBEn-1N9NkI"
      },
      "outputs": [],
      "source": [
        "# Model hyperparameters\n",
        "in_channels = dataset.num_node_features  # 1433 (Cora input feature size)\n",
        "hidden_channels = 64\n",
        "out_channels = dataset.num_classes  # 7 (Cora has 7 classes)\n",
        "# Initialize the model\n",
        "model = SUM_GCN(in_channels, hidden_channels, out_channels).to(device)\n",
        "# Loss function and optimizer\n",
        "criterion = nn.CrossEntropyLoss()\n",
        "optimizer = optim.Adam(model.parameters(), lr=0.01, weight_decay=5e-4)\n"
      ]
    },
    {
      "cell_type": "code",
      "execution_count": null,
      "metadata": {
        "colab": {
          "base_uri": "https://localhost:8080/"
        },
        "id": "lHsLxmY6t7od",
        "outputId": "cc688b37-be25-4097-8af1-19214d021f04"
      },
      "outputs": [
        {
          "name": "stdout",
          "output_type": "stream",
          "text": [
            "Epoch 1/50, Loss: 1.9985\n",
            "Epoch 11/50, Loss: 0.1533\n",
            "Epoch 21/50, Loss: 0.0059\n",
            "Epoch 31/50, Loss: 0.0007\n",
            "Epoch 41/50, Loss: 0.0002\n",
            "Test accuracy: 0.7620\n",
            "Test dice: 0.7616\n"
          ]
        }
      ],
      "source": [
        "# Train the model\n",
        "model.apply(reset_weights)\n",
        "train(model, data, optimizer, criterion, epochs=50)\n",
        "\n",
        "# Evaluate the model\n",
        "acc = evaluate(model, data)\n",
        "print(f'Test accuracy: {acc:.4f}')"
      ]
    },
    {
      "cell_type": "code",
      "execution_count": 33,
      "metadata": {
        "id": "SR8XnfwMvDIg"
      },
      "outputs": [],
      "source": [
        "from torch_geometric.utils import to_dense_adj\n",
        "# Node features (X)\n",
        "x = data.x  # Shape: [num_nodes, num_features]\n",
        "# Adjacency matrix (A)\n",
        "A = to_dense_adj(data.edge_index)[0]  # Shape: [num_nodes, num_nodes]\n",
        "K = (data.x) @ (data.x).T\n",
        "m = 1000"
      ]
    },
    {
      "cell_type": "code",
      "execution_count": null,
      "metadata": {
        "id": "cmhQkZtZdGIx"
      },
      "outputs": [],
      "source": [
        "from Perturbe_Algs import Attacks\n",
        "from copy import deepcopy\n",
        "attack_instance = Attacks(A,K,m, alpha = 50, filter = 'adj', max_iter=250,).to(device)"
      ]
    },
    {
      "cell_type": "code",
      "execution_count": null,
      "metadata": {
        "colab": {
          "base_uri": "https://localhost:8080/"
        },
        "id": "j6XGJa9h9uEm",
        "outputId": "edb96009-fd48-4b55-c59e-e831b5c0770b"
      },
      "outputs": [
        {
          "name": "stderr",
          "output_type": "stream",
          "text": [
            "/content/Perturbe_Algs.py:248: UserWarning: torch.linalg.svd: During SVD computation with the selected cusolver driver, batches 0 failed to converge. A more accurate method will be used to compute the SVD as a fallback. Check doc at https://pytorch.org/docs/stable/generated/torch.linalg.svd.html (Triggered internally at /pytorch/aten/src/ATen/native/cuda/linalg/BatchLinearAlgebraLib.cpp:690.)\n",
            "  S_iter = S_iter + (a/torch.linalg.norm(S_iter.grad, ord=2)) * S_iter.grad\n"
          ]
        },
        {
          "name": "stdout",
          "output_type": "stream",
          "text": [
            "Dataset and adjacency matrix saved.\n"
          ]
        },
        {
          "name": "stderr",
          "output_type": "stream",
          "text": [
            "<ipython-input-40-97ca172e3aca>:7: UserWarning: To copy construct from a tensor, it is recommended to use sourceTensor.clone().detach() or sourceTensor.clone().detach().requires_grad_(True), rather than torch.tensor(sourceTensor).\n",
            "  pgdavg_dataset.edge_index = torch.tensor(A_pgd_avg).nonzero(as_tuple=False).t().contiguous()\n",
            "<ipython-input-40-97ca172e3aca>:8: UserWarning: To copy construct from a tensor, it is recommended to use sourceTensor.clone().detach() or sourceTensor.clone().detach().requires_grad_(True), rather than torch.tensor(sourceTensor).\n",
            "  pgdwst_dataset.edge_index = torch.tensor(A_pgd_wst).nonzero(as_tuple=False).t().contiguous()\n"
          ]
        }
      ],
      "source": [
        "# The two algorithms roughtly take 10 minutes each to run on a single GPU(A100).\n",
        "pgdavg_dataset = deepcopy(data)\n",
        "pgdwst_dataset = deepcopy(data)\n",
        "\n",
        "A_pgd_avg = attack_instance.Prob_PGD().clone().detach()\n",
        "A_pgd_wst = attack_instance.Wst_PGD().clone().detach()\n",
        "\n",
        "pgdavg_dataset.edge_index = torch.tensor(A_pgd_avg).nonzero(as_tuple=False).t().contiguous()\n",
        "pgdwst_dataset.edge_index = torch.tensor(A_pgd_wst).nonzero(as_tuple=False).t().contiguous()"
      ]
    },
    {
      "cell_type": "code",
      "execution_count": null,
      "metadata": {},
      "outputs": [],
      "source": [
        "# Save the dataset object\n",
        "# Save the adjacency matrix (A)\n",
        "torch.save(A_pgd_avg, 'avg_adj.pt')\n",
        "torch.save(A_pgd_wst, 'wst_adj.pt')\n",
        "\n",
        "# Save the modified datasets\n",
        "torch.save(pgdavg_dataset, 'cora_pgdavg_data.pt')\n",
        "torch.save(pgdwst_dataset, 'cora_pgdwst_data.pt')\n",
        "\n",
        "print(\"Dataset and adjacency matrix saved.\")"
      ]
    },
    {
      "cell_type": "code",
      "execution_count": null,
      "metadata": {
        "id": "m6RuaK64-C3x"
      },
      "outputs": [],
      "source": [
        "# Load the attacked graph adjacency matrix from folder'cora_adj'\n",
        "# pgdavg_dataset = torch.load('cora_pgdavg_data.pt', weights_only=False)\n",
        "# pgdwst_dataset = torch.load('cora_pgdwst_data.pt', weights_only=False)"
      ]
    },
    {
      "cell_type": "code",
      "execution_count": 41,
      "metadata": {
        "colab": {
          "base_uri": "https://localhost:8080/"
        },
        "id": "PQT7LlXi1Z9m",
        "outputId": "e7a1525f-fb4d-43aa-c675-72a259f91210"
      },
      "outputs": [
        {
          "name": "stderr",
          "output_type": "stream",
          "text": [
            "<ipython-input-41-2f1362b35aee>:15: UserWarning: To copy construct from a tensor, it is recommended to use sourceTensor.clone().detach() or sourceTensor.clone().detach().requires_grad_(True), rather than torch.tensor(sourceTensor).\n",
            "  random_dataset.edge_index = torch.tensor(A_random).nonzero(as_tuple=False).t().contiguous()\n"
          ]
        },
        {
          "name": "stdout",
          "output_type": "stream",
          "text": [
            "Epoch 1/50, Loss: 2.0845\n",
            "Epoch 11/50, Loss: 0.1563\n",
            "Epoch 21/50, Loss: 0.1032\n",
            "Epoch 31/50, Loss: 0.0025\n",
            "Epoch 41/50, Loss: 0.0023\n",
            "-----Iteration 0-----\n",
            "Test Acc: 0.7330\n",
            "PGD-AVG Test Acc: 0.5850\n",
            "PGD-WST Test Acc: 0.7260\n",
            "Random Test Acc: 0.7050\n",
            "Epoch 1/50, Loss: 2.0349\n",
            "Epoch 11/50, Loss: 0.2107\n",
            "Epoch 21/50, Loss: 0.2655\n",
            "Epoch 31/50, Loss: 0.0999\n",
            "Epoch 41/50, Loss: 0.0147\n",
            "-----Iteration 1-----\n",
            "Test Acc: 0.7430\n",
            "PGD-AVG Test Acc: 0.5240\n",
            "PGD-WST Test Acc: 0.7280\n",
            "Random Test Acc: 0.7100\n",
            "Epoch 1/50, Loss: 1.9921\n",
            "Epoch 11/50, Loss: 0.1050\n",
            "Epoch 21/50, Loss: 0.0054\n",
            "Epoch 31/50, Loss: 0.0008\n",
            "Epoch 41/50, Loss: 0.0004\n",
            "-----Iteration 2-----\n",
            "Test Acc: 0.7590\n",
            "PGD-AVG Test Acc: 0.6030\n",
            "PGD-WST Test Acc: 0.7520\n",
            "Random Test Acc: 0.7230\n",
            "Epoch 1/50, Loss: 1.9766\n",
            "Epoch 11/50, Loss: 0.1384\n",
            "Epoch 21/50, Loss: 0.0083\n",
            "Epoch 31/50, Loss: 0.0016\n",
            "Epoch 41/50, Loss: 0.0008\n",
            "-----Iteration 3-----\n",
            "Test Acc: 0.7510\n",
            "PGD-AVG Test Acc: 0.5830\n",
            "PGD-WST Test Acc: 0.7310\n",
            "Random Test Acc: 0.7120\n",
            "Epoch 1/50, Loss: 1.9418\n",
            "Epoch 11/50, Loss: 0.0972\n",
            "Epoch 21/50, Loss: 0.0034\n",
            "Epoch 31/50, Loss: 0.0005\n",
            "Epoch 41/50, Loss: 0.0003\n",
            "-----Iteration 4-----\n",
            "Test Acc: 0.7450\n",
            "PGD-AVG Test Acc: 0.5370\n",
            "PGD-WST Test Acc: 0.7390\n",
            "Random Test Acc: 0.7060\n",
            "Epoch 1/50, Loss: 1.9913\n",
            "Epoch 11/50, Loss: 0.2183\n",
            "Epoch 21/50, Loss: 0.0136\n",
            "Epoch 31/50, Loss: 0.0024\n",
            "Epoch 41/50, Loss: 0.0010\n",
            "-----Iteration 5-----\n",
            "Test Acc: 0.7610\n",
            "PGD-AVG Test Acc: 0.6020\n",
            "PGD-WST Test Acc: 0.7450\n",
            "Random Test Acc: 0.7360\n",
            "Epoch 1/50, Loss: 2.0430\n",
            "Epoch 11/50, Loss: 0.1222\n",
            "Epoch 21/50, Loss: 0.0071\n",
            "Epoch 31/50, Loss: 0.0017\n",
            "Epoch 41/50, Loss: 0.0008\n",
            "-----Iteration 6-----\n",
            "Test Acc: 0.7630\n",
            "PGD-AVG Test Acc: 0.6490\n",
            "PGD-WST Test Acc: 0.7560\n",
            "Random Test Acc: 0.7230\n",
            "Epoch 1/50, Loss: 2.0330\n",
            "Epoch 11/50, Loss: 0.0989\n",
            "Epoch 21/50, Loss: 0.3706\n",
            "Epoch 31/50, Loss: 0.2422\n",
            "Epoch 41/50, Loss: 0.0157\n",
            "-----Iteration 7-----\n",
            "Test Acc: 0.7540\n",
            "PGD-AVG Test Acc: 0.5970\n",
            "PGD-WST Test Acc: 0.7470\n",
            "Random Test Acc: 0.7260\n",
            "Epoch 1/50, Loss: 2.0494\n",
            "Epoch 11/50, Loss: 0.3235\n",
            "Epoch 21/50, Loss: 0.0569\n",
            "Epoch 31/50, Loss: 0.1018\n",
            "Epoch 41/50, Loss: 0.0048\n",
            "-----Iteration 8-----\n",
            "Test Acc: 0.7130\n",
            "PGD-AVG Test Acc: 0.5230\n",
            "PGD-WST Test Acc: 0.6950\n",
            "Random Test Acc: 0.6510\n",
            "Epoch 1/50, Loss: 2.0842\n",
            "Epoch 11/50, Loss: 0.2184\n",
            "Epoch 21/50, Loss: 0.0124\n",
            "Epoch 31/50, Loss: 0.0034\n",
            "Epoch 41/50, Loss: 0.0023\n",
            "-----Iteration 9-----\n",
            "Test Acc: 0.7020\n",
            "PGD-AVG Test Acc: 0.4990\n",
            "PGD-WST Test Acc: 0.6960\n",
            "Random Test Acc: 0.6750\n"
          ]
        }
      ],
      "source": [
        "num_rep = 10\n",
        "\n",
        "list_ebd_random = []\n",
        "list_ebd_pgdavg = []\n",
        "list_ebd_pgdwst = []\n",
        "list_acc = []\n",
        "list_acc_random = []\n",
        "list_acc_pgdavg = []\n",
        "list_acc_pgdwst = []\n",
        "\n",
        "for i in range(num_rep):\n",
        "\n",
        "  A_random = attack_instance.randomAttack().clone().detach()\n",
        "  random_dataset = deepcopy(data)\n",
        "  random_dataset.edge_index = torch.tensor(A_random).nonzero(as_tuple=False).t().contiguous()\n",
        "\n",
        "  model.apply(reset_weights)\n",
        "  train(model, data, optimizer, criterion, epochs=50)\n",
        "  test_acc = evaluate(model, data)\n",
        "  acc_random = evaluate(model, random_dataset)\n",
        "  acc_pgdavg = evaluate(model, pgdavg_dataset)\n",
        "  acc_pgdwst = evaluate(model, pgdwst_dataset)\n",
        "\n",
        "  list_acc.append(test_acc)\n",
        "  list_acc_random.append(acc_random)\n",
        "  list_acc_pgdavg.append(acc_pgdavg)\n",
        "  list_acc_pgdwst.append(acc_pgdwst)\n",
        "\n",
        "\n",
        "  ebd = model.get_ebd(data.x, data.edge_index)\n",
        "  ebd_random = model.get_ebd(random_dataset.x, random_dataset.edge_index)\n",
        "  ebd_pgdavg = model.get_ebd(pgdavg_dataset.x, pgdavg_dataset.edge_index)\n",
        "  ebd_pgdwst = model.get_ebd(pgdwst_dataset.x, pgdwst_dataset.edge_index)\n",
        "\n",
        "\n",
        "  p_ebd_random = torch.norm(ebd - ebd_random, p='fro')\n",
        "  p_ebd_pgdavg = torch.norm(ebd - ebd_pgdavg, p='fro')\n",
        "  p_ebd_pgdwst = torch.norm(ebd - ebd_pgdwst, p='fro')\n",
        "\n",
        "  list_ebd_random.append(p_ebd_random.item())\n",
        "  list_ebd_pgdavg.append(p_ebd_pgdavg.item())\n",
        "  list_ebd_pgdwst.append(p_ebd_pgdwst.item())\n",
        "\n",
        "  print(f\"-----Iteration {i:d}-----\")\n",
        "  print(f\"Test Acc: {test_acc:.4f}\")\n",
        "  print(f\"PGD-AVG Test Acc: {acc_pgdavg:.4f}\")\n",
        "  print(f\"PGD-WST Test Acc: {acc_pgdwst:.4f}\")\n",
        "  print(f\"Random Test Acc: {acc_random:.4f}\")\n",
        "\n"
      ]
    },
    {
      "cell_type": "code",
      "execution_count": null,
      "metadata": {
        "colab": {
          "base_uri": "https://localhost:8080/"
        },
        "collapsed": true,
        "id": "BhjDXYM0cuQJ",
        "outputId": "6ea14ce3-3499-4c9c-a80a-f9476a8f24d4"
      },
      "outputs": [
        {
          "name": "stdout",
          "output_type": "stream",
          "text": [
            "Test: 74.24, std:1.96\n",
            "Mean of random: 70.67, std:2.43\n",
            "Mean of Wst_PGD: 73.15, std: 2.03\n",
            "Mean of Prob_PGD:57.02, std: 0.04\n"
          ]
        }
      ],
      "source": [
        "\n",
        "print(f\"Test: {np.mean(list_acc)*100:.2f}, std:{np.std(list_acc)*100:.2f}\")\n",
        "print(f\"Mean of random: {np.mean(list_acc_random)*100:.2f}, std:{np.std(list_acc_random)*100:.2f}\")\n",
        "print(f\"Mean of Wst_PGD: {np.mean(list_acc_pgdwst)*100:.2f}, std: {np.std(list_acc_pgdwst)*100:.2f}\")\n",
        "print(f\"Mean of Prob_PGD:{np.mean(list_acc_pgdavg)*100:.2f}, std: {np.std(list_acc_pgdavg):.2f}\")\n"
      ]
    },
    {
      "cell_type": "code",
      "execution_count": 43,
      "metadata": {
        "colab": {
          "base_uri": "https://localhost:8080/"
        },
        "id": "iBMLoi_C-Vvu",
        "outputId": "b006d180-14bf-4a38-cdee-2363b3598819"
      },
      "outputs": [
        {
          "name": "stdout",
          "output_type": "stream",
          "text": [
            "Mean of random embedding norm: 1361.20, std:554.58\n",
            "Mean of Wst_PGD embedding norm: 26285.39, std: 13684.87\n",
            "Mean of Prob_PGD embedding norm:69498.89, std: 40595.28\n"
          ]
        }
      ],
      "source": [
        "print(f\"Mean of random embedding norm: {np.mean(list_ebd_random):.2f}, std:{np.std(list_ebd_random):.2f}\")\n",
        "print(f\"Mean of Wst_PGD embedding norm: {np.mean(list_ebd_pgdwst):.2f}, std: {np.std(list_ebd_pgdwst):.2f}\")\n",
        "print(f\"Mean of Prob_PGD embedding norm:{np.mean(list_ebd_pgdavg):.2f}, std: {np.std(list_ebd_pgdavg):.2f}\")"
      ]
    },
    {
      "cell_type": "code",
      "execution_count": 44,
      "metadata": {
        "colab": {
          "base_uri": "https://localhost:8080/"
        },
        "id": "gj_vOR1n-XYq",
        "outputId": "cab15427-6b61-4e74-dab7-93d7b8f90f41"
      },
      "outputs": [
        {
          "name": "stdout",
          "output_type": "stream",
          "text": [
            "Test: 74.24 \\pm 1.96\n",
            "Mean of random: 70.67 \\pm 2.43\n",
            "Mean of Wst_PGD: 73.15 \\pm 2.03\n",
            "Mean of Prob_PGD:57.02 \\pm 0.04\n",
            "Mean of random embedding norm: 1361.20 \\pm 554.58\n",
            "Mean of Wst_PGD embedding norm: 26285.39 \\pm 13684.87\n",
            "Mean of Prob_PGD embedding norm:69498.89 \\pm 40595.28\n"
          ]
        }
      ],
      "source": [
        "print(f\"Test: {np.mean(list_acc)*100:.2f} \\pm {np.std(list_acc)*100:.2f}\")\n",
        "print(f\"Mean of random: {np.mean(list_acc_random)*100:.2f} \\pm {np.std(list_acc_random)*100:.2f}\")\n",
        "print(f\"Mean of Wst_PGD: {np.mean(list_acc_pgdwst)*100:.2f} \\pm {np.std(list_acc_pgdwst)*100:.2f}\")\n",
        "print(f\"Mean of Prob_PGD:{np.mean(list_acc_pgdavg)*100:.2f} \\pm {np.std(list_acc_pgdavg):.2f}\")\n",
        "print(f\"Mean of random embedding norm: {np.mean(list_ebd_random):.2f} \\pm {np.std(list_ebd_random):.2f}\")\n",
        "print(f\"Mean of Wst_PGD embedding norm: {np.mean(list_ebd_pgdwst):.2f} \\pm {np.std(list_ebd_pgdwst):.2f}\")\n",
        "print(f\"Mean of Prob_PGD embedding norm:{np.mean(list_ebd_pgdavg):.2f} \\pm {np.std(list_ebd_pgdavg):.2f}\")"
      ]
    }
  ],
  "metadata": {
    "accelerator": "GPU",
    "colab": {
      "gpuType": "A100",
      "machine_shape": "hm",
      "provenance": []
    },
    "kernelspec": {
      "display_name": "Python 3",
      "name": "python3"
    },
    "language_info": {
      "name": "python"
    }
  },
  "nbformat": 4,
  "nbformat_minor": 0
}
