{
  "cells": [
    {
      "cell_type": "code",
      "execution_count": 1,
      "metadata": {
        "id": "-R_gvSySypPt"
      },
      "outputs": [],
      "source": [
        "# Download the corresponding PyTorch Geometric module\n",
        "%%capture\n",
        "\"\"\"\n",
        "Assign to TORCH with what you get from the cell above, E.g., export TORCH=1.13.1+cu113\n",
        "\"\"\"\n",
        "%env TORCH=2.1.0+cu118\n",
        "!pip install torch-scatter -f https://data.pyg.org/whl/torch-${TORCH}.html\n",
        "!pip install torch-sparse -f https://data.pyg.org/whl/torch-${TORCH}.html\n",
        "!pip install torch-geometric"
      ]
    },
    {
      "cell_type": "code",
      "execution_count": 1,
      "metadata": {
        "colab": {
          "base_uri": "https://localhost:8080/"
        },
        "id": "n67ZNRR4zP19",
        "outputId": "9fe7e45b-9e20-43c3-e0cd-65d24ab87ed1"
      },
      "outputs": [
        {
          "output_type": "stream",
          "name": "stderr",
          "text": [
            "/usr/local/lib/python3.11/dist-packages/torch_geometric/typing.py:86: UserWarning: An issue occurred while importing 'torch-scatter'. Disabling its usage. Stacktrace: /usr/local/lib/python3.11/dist-packages/torch_scatter/_version_cuda.so: undefined symbol: _ZN3c1017RegisterOperatorsD1Ev\n",
            "  warnings.warn(f\"An issue occurred while importing 'torch-scatter'. \"\n",
            "/usr/local/lib/python3.11/dist-packages/torch_geometric/typing.py:124: UserWarning: An issue occurred while importing 'torch-sparse'. Disabling its usage. Stacktrace: /usr/local/lib/python3.11/dist-packages/torch_sparse/_version_cuda.so: undefined symbol: _ZN3c1017RegisterOperatorsD1Ev\n",
            "  warnings.warn(f\"An issue occurred while importing 'torch-sparse'. \"\n"
          ]
        }
      ],
      "source": [
        "import torch\n",
        "import torch.nn.functional as F\n",
        "from torch_geometric.datasets import TUDataset\n",
        "from torch_geometric.loader import DataLoader\n",
        "from torch_geometric.nn import GCNConv, global_mean_pool,global_max_pool\n",
        "import random\n",
        "import numpy as np\n",
        "\n"
      ]
    },
    {
      "cell_type": "code",
      "source": [
        "def set_seed(seed=1):\n",
        "    torch.manual_seed(seed)\n",
        "    np.random.seed(seed)\n",
        "    random.seed(seed)\n",
        "\n",
        "# Use GPU if available\n",
        "device = torch.device('cuda' if torch.cuda.is_available() else 'cpu')\n",
        "print(device)"
      ],
      "metadata": {
        "colab": {
          "base_uri": "https://localhost:8080/"
        },
        "id": "59wnZtV04H0B",
        "outputId": "f25b4def-ec7e-4385-ad24-1022e4a72a66"
      },
      "execution_count": 2,
      "outputs": [
        {
          "output_type": "stream",
          "name": "stdout",
          "text": [
            "cpu\n"
          ]
        }
      ]
    },
    {
      "cell_type": "code",
      "execution_count": 23,
      "metadata": {
        "colab": {
          "base_uri": "https://localhost:8080/"
        },
        "id": "_qoon8MazUWw",
        "outputId": "0203ba27-6f38-4435-f1f9-ccda6c852cdf"
      },
      "outputs": [
        {
          "output_type": "stream",
          "name": "stdout",
          "text": [
            "[1, 0, 0, 1, 1, 1, 0, 0, 0, 1]\n"
          ]
        }
      ],
      "source": [
        "# Load ENZYMES, MUTAG dataset\n",
        "set_seed(1)\n",
        "dataset = TUDataset(root='data/TUDataset', name='MUTAG', use_node_attr=True)\n",
        "dataset = dataset.shuffle()\n",
        "shuffled_indices = [data.y.item() for data in dataset]\n",
        "print(shuffled_indices[:10])\n",
        "\n",
        "\n",
        "# Train/test split (80/20)\n",
        "split_idx = int(0.8 * len(dataset))\n",
        "train_dataset = dataset[:split_idx]\n",
        "test_dataset = dataset[split_idx:]\n",
        "train_loader = DataLoader(train_dataset, batch_size=32, shuffle=True)\n",
        "test_loader = DataLoader(test_dataset, batch_size=len(test_dataset), shuffle=False)\n"
      ]
    },
    {
      "cell_type": "code",
      "execution_count": 18,
      "metadata": {
        "id": "ZTBY04Qfzc-p"
      },
      "outputs": [],
      "source": [
        "class GCN(torch.nn.Module):\n",
        "    def __init__(self, input_dim, hidden_dim):\n",
        "        super(GCN, self).__init__()\n",
        "        self.conv1 = GCNConv(input_dim, hidden_dim, cached=False)\n",
        "        self.conv2 = GCNConv(hidden_dim, hidden_dim, cached=False)\n",
        "        self.lin = torch.nn.Linear(hidden_dim, 1)\n",
        "\n",
        "    def forward(self, x, edge_index, batch):\n",
        "        x = F.relu(self.conv1(x, edge_index))\n",
        "        x = F.dropout(x, p=0.2, training=self.training)\n",
        "        x = F.relu(self.conv2(x, edge_index))\n",
        "        x = F.dropout(x, p=0.2, training=self.training)\n",
        "        x = global_max_pool(x, batch)  # Aggregate node features\n",
        "        x = self.lin(x)\n",
        "        return x.view(-1)\n",
        "\n",
        "    def get_ebd(self, x, edge_index):\n",
        "        x = F.relu(self.conv1(x, edge_index))\n",
        "        x = F.relu(self.conv2(x, edge_index))\n",
        "        return x\n",
        "\n",
        "\n",
        "def train():\n",
        "    model.train()\n",
        "    criterion = torch.nn.BCEWithLogitsLoss()\n",
        "    total_loss = 0\n",
        "    for data in train_loader:\n",
        "        data = data.to(device)\n",
        "        optimizer.zero_grad()\n",
        "        out = model(data.x, data.edge_index, data.batch)\n",
        "        loss = criterion(out, data.y.float())\n",
        "        loss.backward()\n",
        "        optimizer.step()\n",
        "        total_loss += loss.item()\n",
        "    return total_loss / len(train_loader)\n",
        "\n",
        "# Evaluation\n",
        "@torch.no_grad()\n",
        "def test(loader):\n",
        "    model.eval()\n",
        "    correct = 0\n",
        "    for data in loader:\n",
        "        data = data.to(device)\n",
        "        out = model(data.x, data.edge_index, data.batch)\n",
        "        pred = (torch.sigmoid(out) > 0.5).long()\n",
        "        correct += int((pred == data.y).sum())\n",
        "    return correct / len(loader.dataset)\n",
        "\n",
        "def reset_weights(m):\n",
        "    if isinstance(m, (torch.nn.Linear, GCNConv)):\n",
        "        m.reset_parameters()\n"
      ]
    },
    {
      "cell_type": "code",
      "execution_count": 24,
      "metadata": {
        "colab": {
          "base_uri": "https://localhost:8080/"
        },
        "id": "onXxN-3RzjS7",
        "outputId": "9b1ed77c-8510-448a-9bf3-43b1c4dada88"
      },
      "outputs": [
        {
          "output_type": "stream",
          "name": "stdout",
          "text": [
            "Epoch 00, Loss: 0.6475, Train Acc: 0.6933, Test Acc: 0.5526\n",
            "Epoch 20, Loss: 0.4767, Train Acc: 0.7467, Test Acc: 0.6842\n",
            "Epoch 40, Loss: 0.4827, Train Acc: 0.8133, Test Acc: 0.7105\n",
            "Epoch 60, Loss: 0.4851, Train Acc: 0.7867, Test Acc: 0.7368\n",
            "Epoch 80, Loss: 0.4785, Train Acc: 0.7733, Test Acc: 0.7632\n"
          ]
        }
      ],
      "source": [
        "# Train for a few epochs\n",
        "model = GCN(input_dim=dataset.num_node_features,\n",
        "            hidden_dim=64).to(device)\n",
        "\n",
        "optimizer = torch.optim.Adam(model.parameters(), lr=0.005, weight_decay=1e-3)\n",
        "\n",
        "num_epochs = 100\n",
        "train_acc_list = []\n",
        "test_acc_list = []\n",
        "for epoch in range(num_epochs):\n",
        "    loss = train()\n",
        "    train_acc = test(train_loader)\n",
        "    test_acc = test(test_loader)\n",
        "    train_acc_list.append(train_acc)\n",
        "    test_acc_list.append(test_acc)\n",
        "    if epoch % 20 == 0:\n",
        "      print(f\"Epoch {epoch:02d}, Loss: {loss:.4f}, Train Acc: {train_acc:.4f}, Test Acc: {test_acc:.4f}\")\n"
      ]
    },
    {
      "cell_type": "code",
      "execution_count": 25,
      "metadata": {
        "colab": {
          "base_uri": "https://localhost:8080/",
          "height": 487
        },
        "id": "vRRRTNZq1_po",
        "outputId": "015ba6d9-8f16-43e7-8ded-cdc7e9ef6d9e"
      },
      "outputs": [
        {
          "output_type": "display_data",
          "data": {
            "text/plain": [
              "<Figure size 1000x500 with 1 Axes>"
            ],
            "image/png": "[encoded data removed]"
          },
          "metadata": {}
        }
      ],
      "source": [
        "# Plot the training and test accuracy curves\n",
        "import matplotlib.pyplot as plt\n",
        "plt.figure(figsize=(10, 5))\n",
        "plt.plot(range(1, num_epochs + 1), train_acc_list, label='Train Accuracy')\n",
        "plt.plot(range(1, num_epochs + 1), test_acc_list, label='Test Accuracy')\n",
        "plt.xlabel('Epoch')\n",
        "plt.ylabel('Accuracy')\n",
        "plt.title('Training and Test Accuracy over Epochs')\n",
        "plt.legend()\n",
        "plt.show()"
      ]
    },
    {
      "cell_type": "code",
      "execution_count": 26,
      "metadata": {
        "id": "B3mbZsgMnVnh"
      },
      "outputs": [],
      "source": [
        "from scipy.optimize import root_scalar\n",
        "from tqdm.notebook import tqdm\n",
        "import numpy as np\n",
        "from IPython.display import clear_output\n",
        "import time\n",
        "from time import sleep\n",
        "from copy import deepcopy\n",
        "from torch_geometric.utils import to_dense_adj\n",
        "from Perturbe_Algs import Attacks\n"
      ]
    },
    {
      "cell_type": "code",
      "source": [
        "random_dataset = [deepcopy(data) for data in test_dataset]\n",
        "pgdavg_dataset = [deepcopy(data) for data in test_dataset]\n",
        "pgdwst_dataset = [deepcopy(data) for data in test_dataset]\n",
        "\n",
        "for i in tqdm(range(len(test_dataset))):\n",
        "    data = test_dataset[i].to(device)\n",
        "    edge_index = data.edge_index\n",
        "    dataA = to_dense_adj(edge_index)[0].clone()\n",
        "    K = (data.x) @ (data.x).T\n",
        "    if dataA.shape[0] == data.x.shape[0]:\n",
        "      n = dataA.shape[0]\n",
        "      num = int(n*n*0.05)\n",
        "      attack_instance = Attacks(dataA, K, m=num, filter = 'adj_norm_self_loop').to(device)\n",
        "\n",
        "      A_pgd_avg = attack_instance.Prob_PGD().clone().detach()\n",
        "      A_pgd_wst = attack_instance.Wst_PGD().clone().detach()\n",
        "      A_random = attack_instance.randomAttack().clone().detach()\n",
        "    else:\n",
        "      print('Miss matched data: no operation')\n",
        "      A_pgd_avg = dataA.clone().detach()\n",
        "      A_pgd_wst = dataA.clone().detach()\n",
        "      A_random = dataA.clone().detach()\n",
        "\n",
        "    random_edge_index = torch.tensor(A_random).nonzero(as_tuple=False).t().contiguous()\n",
        "    pgdavg_edge_index = torch.tensor(A_pgd_avg).nonzero(as_tuple=False).t().contiguous()\n",
        "    pgdwst_edge_index = torch.tensor(A_pgd_wst).nonzero(as_tuple=False).t().contiguous()\n",
        "\n",
        "    random_dataset[i].edge_index = random_edge_index\n",
        "    pgdavg_dataset[i].edge_index = pgdavg_edge_index\n",
        "    pgdwst_dataset[i].edge_index = pgdwst_edge_index"
      ],
      "metadata": {
        "colab": {
          "base_uri": "https://localhost:8080/",
          "height": 176,
          "referenced_widgets": [
            "88083b67e8d345f0a9b90f1c19be1d0e",
            "b21dccaf75ae40d38a327dc54c6f400f",
            "aa35dff881e145369d84ec40ea2f41ec",
            "a542d584730b4baebf5d766486ebfe2a",
            "383bbb8d777b48659adfee4a86d01551",
            "18916127b8754feb841df5754da1d65a",
            "6a262c7036c847249567de5a596518c8",
            "b8994519dd8a44eaab498259927427cd",
            "aac62406527b4595bed0e527c1a8774a",
            "a2ad94d6324c4fdda589a3ab0427ab78",
            "75cfaad2b23a4a56b053b408f5869619"
          ]
        },
        "id": "cygAWjLHMtkU",
        "outputId": "73192093-ded7-4527-ec01-2dd9644840da"
      },
      "execution_count": 27,
      "outputs": [
        {
          "output_type": "display_data",
          "data": {
            "text/plain": [
              "  0%|          | 0/38 [00:00<?, ?it/s]"
            ],
            "application/vnd.jupyter.widget-view+json": {
              "version_major": 2,
              "version_minor": 0,
              "model_id": "88083b67e8d345f0a9b90f1c19be1d0e"
            }
          },
          "metadata": {}
        },
        {
          "output_type": "stream",
          "name": "stderr",
          "text": [
            "<ipython-input-27-af61cbecb826>:24: UserWarning: To copy construct from a tensor, it is recommended to use sourceTensor.clone().detach() or sourceTensor.clone().detach().requires_grad_(True), rather than torch.tensor(sourceTensor).\n",
            "  random_edge_index = torch.tensor(A_random).nonzero(as_tuple=False).t().contiguous()\n",
            "<ipython-input-27-af61cbecb826>:25: UserWarning: To copy construct from a tensor, it is recommended to use sourceTensor.clone().detach() or sourceTensor.clone().detach().requires_grad_(True), rather than torch.tensor(sourceTensor).\n",
            "  pgdavg_edge_index = torch.tensor(A_pgd_avg).nonzero(as_tuple=False).t().contiguous()\n",
            "<ipython-input-27-af61cbecb826>:26: UserWarning: To copy construct from a tensor, it is recommended to use sourceTensor.clone().detach() or sourceTensor.clone().detach().requires_grad_(True), rather than torch.tensor(sourceTensor).\n",
            "  pgdwst_edge_index = torch.tensor(A_pgd_wst).nonzero(as_tuple=False).t().contiguous()\n"
          ]
        }
      ]
    },
    {
      "cell_type": "code",
      "execution_count": 28,
      "metadata": {
        "colab": {
          "base_uri": "https://localhost:8080/"
        },
        "id": "2wbk6tbxpN-c",
        "outputId": "ccb325da-0e4c-4f18-eca1-879e733791ca"
      },
      "outputs": [
        {
          "output_type": "stream",
          "name": "stdout",
          "text": [
            "-----Iteration 0-----\n",
            "Test Acc: 0.7368\n",
            "PGD-AVG Test Acc: 0.5000\n",
            "PGD-WST Test Acc: 0.7105\n",
            "Random Test Acc: 0.7105\n",
            "-----Iteration 1-----\n",
            "Test Acc: 0.7105\n",
            "PGD-AVG Test Acc: 0.4474\n",
            "PGD-WST Test Acc: 0.6842\n",
            "Random Test Acc: 0.7368\n",
            "-----Iteration 2-----\n",
            "Test Acc: 0.6842\n",
            "PGD-AVG Test Acc: 0.4474\n",
            "PGD-WST Test Acc: 0.7105\n",
            "Random Test Acc: 0.7368\n",
            "-----Iteration 3-----\n",
            "Test Acc: 0.7632\n",
            "PGD-AVG Test Acc: 0.5000\n",
            "PGD-WST Test Acc: 0.7105\n",
            "Random Test Acc: 0.7105\n",
            "-----Iteration 4-----\n",
            "Test Acc: 0.6842\n",
            "PGD-AVG Test Acc: 0.4474\n",
            "PGD-WST Test Acc: 0.7368\n",
            "Random Test Acc: 0.7368\n",
            "-----Iteration 5-----\n",
            "Test Acc: 0.6842\n",
            "PGD-AVG Test Acc: 0.4211\n",
            "PGD-WST Test Acc: 0.7368\n",
            "Random Test Acc: 0.7105\n",
            "-----Iteration 6-----\n",
            "Test Acc: 0.6842\n",
            "PGD-AVG Test Acc: 0.4474\n",
            "PGD-WST Test Acc: 0.7368\n",
            "Random Test Acc: 0.7105\n",
            "-----Iteration 7-----\n",
            "Test Acc: 0.7368\n",
            "PGD-AVG Test Acc: 0.4474\n",
            "PGD-WST Test Acc: 0.7368\n",
            "Random Test Acc: 0.7105\n",
            "-----Iteration 8-----\n",
            "Test Acc: 0.6842\n",
            "PGD-AVG Test Acc: 0.4211\n",
            "PGD-WST Test Acc: 0.7368\n",
            "Random Test Acc: 0.7368\n",
            "-----Iteration 9-----\n",
            "Test Acc: 0.6842\n",
            "PGD-AVG Test Acc: 0.4474\n",
            "PGD-WST Test Acc: 0.7368\n",
            "Random Test Acc: 0.6842\n"
          ]
        }
      ],
      "source": [
        "rep_num = 10\n",
        "list_acc_pgdavg = []\n",
        "list_acc_pgdwst = []\n",
        "list_acc_random = []\n",
        "list_acc = []\n",
        "list_embed_pgdavg = []\n",
        "list_embed_pgdwst = []\n",
        "list_embed_random = []\n",
        "\n",
        "for l in range(rep_num):\n",
        "\n",
        "  embed_pgdavg = []\n",
        "  embed_pgdwst = []\n",
        "  embed_random = []\n",
        "\n",
        "  # Re-train model in repeating experiment\n",
        "  model.apply(reset_weights)\n",
        "  num_epochs = 100\n",
        "  for epoch in range(num_epochs):\n",
        "    loss = train()\n",
        "    train_acc = test(train_loader)\n",
        "    test_acc = test(test_loader)\n",
        "    train_acc_list.append(train_acc)\n",
        "    test_acc_list.append(test_acc)\n",
        "\n",
        "  model.eval()\n",
        "  for i in (range(len(test_dataset))):\n",
        "    data = test_dataset[i].to(device)\n",
        "    avg_data = pgdavg_dataset[i].to(device)\n",
        "    wst_data = pgdwst_dataset[i].to(device)\n",
        "    random_data = random_dataset[i].to(device)\n",
        "    with torch.no_grad():\n",
        "      ebd_test = model.get_ebd(data.x, data.edge_index)\n",
        "      ebd_pgd_avg = model.get_ebd(data.x, avg_data.edge_index )\n",
        "      ebd_pgd_wst = model.get_ebd(data.x, wst_data.edge_index)\n",
        "      ebd_random = model.get_ebd(data.x, random_data.edge_index)\n",
        "\n",
        "      embed_pgdavg.append(torch.norm(ebd_test - ebd_pgd_avg, p = 'fro'))\n",
        "      embed_pgdwst.append(torch.norm(ebd_test - ebd_pgd_wst, p = 'fro'))\n",
        "      embed_random.append(torch.norm(ebd_test - ebd_random, p = 'fro'))\n",
        "\n",
        "  pgdavg_test_loader = DataLoader(pgdavg_dataset, batch_size=len(pgdavg_dataset), shuffle=False)\n",
        "  pgdwst_test_loader = DataLoader(pgdwst_dataset, batch_size=len(pgdwst_dataset), shuffle=False)\n",
        "  random_test_loader = DataLoader(random_dataset, batch_size=len(random_dataset), shuffle=False)\n",
        "\n",
        "  list_embed_pgdavg.append(sum(embed_pgdavg).item()/len(test_dataset))\n",
        "  list_embed_pgdwst.append(sum(embed_pgdwst).item()/len(test_dataset))\n",
        "  list_embed_random.append(sum(embed_random).item()/len(test_dataset))\n",
        "\n",
        "  print(f\"-----Iteration {l:d}-----\")\n",
        "  print(f\"Test Acc: {test_acc:.4f}\")\n",
        "  list_acc.append(test_acc)\n",
        "  pgdavg_test_acc = test(pgdavg_test_loader)\n",
        "  list_acc_pgdavg.append(pgdavg_test_acc)\n",
        "  print(f\"PGD-AVG Test Acc: {pgdavg_test_acc:.4f}\")\n",
        "\n",
        "  pgdwst_test_acc = test(pgdwst_test_loader)\n",
        "  list_acc_pgdwst.append(pgdwst_test_acc)\n",
        "  print(f\"PGD-WST Test Acc: {pgdwst_test_acc:.4f}\")\n",
        "\n",
        "  random_test_acc = test(random_test_loader)\n",
        "  list_acc_random.append(random_test_acc)\n",
        "  print(f\"Random Test Acc: {random_test_acc:.4f}\")\n"
      ]
    },
    {
      "cell_type": "code",
      "source": [
        "print(f\"Test: {np.mean(list_acc)*100:.2f}, std:{np.std(list_acc)*100:.2f}\")\n",
        "print(f\"Mean of random: {np.mean(list_acc_random)*100:.2f}, std:{np.std(list_acc_random)*100:.2f}\")\n",
        "print(f\"Mean of Wst_PGD: {np.mean(list_acc_pgdwst)*100:.2f}, std: {np.std(list_acc_pgdwst)*100:.2f}\")\n",
        "print(f\"Mean of Prob_PGD:{np.mean(list_acc_pgdavg)*100:.2f}, std: {np.std(list_acc_pgdavg):.2f}\")\n"
      ],
      "metadata": {
        "colab": {
          "base_uri": "https://localhost:8080/"
        },
        "id": "hrjHDysUc_cB",
        "outputId": "502b7972-9c7a-4e0b-879a-faad7f15ae3e"
      },
      "execution_count": 29,
      "outputs": [
        {
          "output_type": "stream",
          "name": "stdout",
          "text": [
            "Test: 70.53, std:2.83\n",
            "Mean of random: 71.84, std:1.69\n",
            "Mean of Wst_PGD: 72.37, std: 1.77\n",
            "Mean of Prob_PGD:45.26, std: 0.03\n"
          ]
        }
      ]
    },
    {
      "cell_type": "code",
      "source": [
        "print(f\"Mean of random embedding norm: {np.mean(list_embed_random):.2f}, std:{np.std(list_embed_random):.2f}\")\n",
        "print(f\"Mean of Wst_PGD embedding norm: {np.mean(list_embed_pgdwst):.2f}, std: {np.std(list_embed_pgdwst):.2f}\")\n",
        "print(f\"Mean of Prob_PGD embedding norm:{np.mean(list_embed_pgdavg):.2f}, std: {np.std(list_embed_pgdavg):.2f}\")"
      ],
      "metadata": {
        "colab": {
          "base_uri": "https://localhost:8080/"
        },
        "id": "u4QSSbYwrrGo",
        "outputId": "93878867-5860-4fea-b2e3-aa7769103f0b"
      },
      "execution_count": 30,
      "outputs": [
        {
          "output_type": "stream",
          "name": "stdout",
          "text": [
            "Mean of random embedding norm: 1.57, std:0.18\n",
            "Mean of Wst_PGD embedding norm: 1.38, std: 0.11\n",
            "Mean of Prob_PGD embedding norm:2.04, std: 0.23\n"
          ]
        }
      ]
    },
    {
      "cell_type": "code",
      "execution_count": 31,
      "metadata": {
        "colab": {
          "base_uri": "https://localhost:8080/",
          "height": 601
        },
        "id": "XYDoDuK-Df17",
        "outputId": "4180d4ae-1402-4164-c006-1c328f3d7dae"
      },
      "outputs": [
        {
          "output_type": "stream",
          "name": "stderr",
          "text": [
            "<ipython-input-31-de5d6de50e7c>:2: MatplotlibDeprecationWarning: The 'labels' parameter of boxplot() has been renamed 'tick_labels' since Matplotlib 3.9; support for the old name will be dropped in 3.11.\n",
            "  plt.boxplot([\n"
          ]
        },
        {
          "output_type": "display_data",
          "data": {
            "text/plain": [
              "<Figure size 600x600 with 1 Axes>"
            ],
            "image/png": "[encoded data removed]"
          },
          "metadata": {}
        }
      ],
      "source": [
        "plt.figure(figsize=(6, 6))\n",
        "plt.boxplot([\n",
        "    [e.cpu() for e in embed_pgdavg],\n",
        "    [e.cpu() for e in embed_pgdwst],\n",
        "    [e.cpu() for e in embed_random]\n",
        "], labels=['Prob-PGD', 'Wst-PGD', 'Random'],showmeans = True)\n",
        "plt.ylabel('Average perturbation (Frob norm)')\n",
        "plt.title('2-layer GCN embedding perturbation')\n",
        "plt.show()"
      ]
    },
    {
      "cell_type": "code",
      "source": [
        "print(f\"Test: {np.mean(list_acc)*100:.2f} \\pm {np.std(list_acc)*100:.2f}\")\n",
        "print(f\"Mean of random: {np.mean(list_acc_random)*100:.2f} \\pm {np.std(list_acc_random)*100:.2f}\")\n",
        "print(f\"Mean of Wst_PGD: {np.mean(list_acc_pgdwst)*100:.2f} \\pm {np.std(list_acc_pgdwst)*100:.2f}\")\n",
        "print(f\"Mean of Prob_PGD:{np.mean(list_acc_pgdavg)*100:.2f} \\pm {np.std(list_acc_pgdavg):.2f}\")\n",
        "print(f\"Mean of random embedding norm: {np.mean(list_embed_random):.2f} \\pm {np.std(list_embed_random):.2f}\")\n",
        "print(f\"Mean of Wst_PGD embedding norm: {np.mean(list_embed_pgdwst):.2f} \\pm {np.std(list_embed_pgdwst):.2f}\")\n",
        "print(f\"Mean of Prob_PGD embedding norm:{np.mean(list_embed_pgdavg):.2f} \\pm {np.std(list_embed_pgdavg):.2f}\")"
      ],
      "metadata": {
        "colab": {
          "base_uri": "https://localhost:8080/"
        },
        "id": "9t9RLe8m-zM4",
        "outputId": "9b3432f6-74e9-4bd7-bb29-6081ce455061"
      },
      "execution_count": 32,
      "outputs": [
        {
          "output_type": "stream",
          "name": "stdout",
          "text": [
            "Test: 70.53 \\pm 2.83\n",
            "Mean of random: 71.84 \\pm 1.69\n",
            "Mean of Wst_PGD: 72.37 \\pm 1.77\n",
            "Mean of Prob_PGD:45.26 \\pm 0.03\n",
            "Mean of random embedding norm: 1.57 \\pm 0.18\n",
            "Mean of Wst_PGD embedding norm: 1.38 \\pm 0.11\n",
            "Mean of Prob_PGD embedding norm:2.04 \\pm 0.23\n"
          ]
        }
      ]
    }
  ],
  "metadata": {
    "colab": {
      "machine_shape": "hm",
      "provenance": []
    },
    "kernelspec": {
      "display_name": "Python 3",
      "name": "python3"
    },
    "language_info": {
      "name": "python"
    },
    "widgets": {
      "application/vnd.jupyter.widget-state+json": {
        "88083b67e8d345f0a9b90f1c19be1d0e": {
          "model_module": "@jupyter-widgets/controls",
          "model_name": "HBoxModel",
          "model_module_version": "1.5.0",
          "state": {
            "_dom_classes": [],
            "_model_module": "@jupyter-widgets/controls",
            "_model_module_version": "1.5.0",
            "_model_name": "HBoxModel",
            "_view_count": null,
            "_view_module": "@jupyter-widgets/controls",
            "_view_module_version": "1.5.0",
            "_view_name": "HBoxView",
            "box_style": "",
            "children": [
              "IPY_MODEL_b21dccaf75ae40d38a327dc54c6f400f",
              "IPY_MODEL_aa35dff881e145369d84ec40ea2f41ec",
              "IPY_MODEL_a542d584730b4baebf5d766486ebfe2a"
            ],
            "layout": "IPY_MODEL_383bbb8d777b48659adfee4a86d01551"
          }
        },
        "b21dccaf75ae40d38a327dc54c6f400f": {
          "model_module": "@jupyter-widgets/controls",
          "model_name": "HTMLModel",
          "model_module_version": "1.5.0",
          "state": {
            "_dom_classes": [],
            "_model_module": "@jupyter-widgets/controls",
            "_model_module_version": "1.5.0",
            "_model_name": "HTMLModel",
            "_view_count": null,
            "_view_module": "@jupyter-widgets/controls",
            "_view_module_version": "1.5.0",
            "_view_name": "HTMLView",
            "description": "",
            "description_tooltip": null,
            "layout": "IPY_MODEL_18916127b8754feb841df5754da1d65a",
            "placeholder": "​",
            "style": "IPY_MODEL_6a262c7036c847249567de5a596518c8",
            "value": "100%"
          }
        },
        "aa35dff881e145369d84ec40ea2f41ec": {
          "model_module": "@jupyter-widgets/controls",
          "model_name": "FloatProgressModel",
          "model_module_version": "1.5.0",
          "state": {
            "_dom_classes": [],
            "_model_module": "@jupyter-widgets/controls",
            "_model_module_version": "1.5.0",
            "_model_name": "FloatProgressModel",
            "_view_count": null,
            "_view_module": "@jupyter-widgets/controls",
            "_view_module_version": "1.5.0",
            "_view_name": "ProgressView",
            "bar_style": "success",
            "description": "",
            "description_tooltip": null,
            "layout": "IPY_MODEL_b8994519dd8a44eaab498259927427cd",
            "max": 38,
            "min": 0,
            "orientation": "horizontal",
            "style": "IPY_MODEL_aac62406527b4595bed0e527c1a8774a",
            "value": 38
          }
        },
        "a542d584730b4baebf5d766486ebfe2a": {
          "model_module": "@jupyter-widgets/controls",
          "model_name": "HTMLModel",
          "model_module_version": "1.5.0",
          "state": {
            "_dom_classes": [],
            "_model_module": "@jupyter-widgets/controls",
            "_model_module_version": "1.5.0",
            "_model_name": "HTMLModel",
            "_view_count": null,
            "_view_module": "@jupyter-widgets/controls",
            "_view_module_version": "1.5.0",
            "_view_name": "HTMLView",
            "description": "",
            "description_tooltip": null,
            "layout": "IPY_MODEL_a2ad94d6324c4fdda589a3ab0427ab78",
            "placeholder": "​",
            "style": "IPY_MODEL_75cfaad2b23a4a56b053b408f5869619",
            "value": " 38/38 [00:18&lt;00:00,  2.17it/s]"
          }
        },
        "383bbb8d777b48659adfee4a86d01551": {
          "model_module": "@jupyter-widgets/base",
          "model_name": "LayoutModel",
          "model_module_version": "1.2.0",
          "state": {
            "_model_module": "@jupyter-widgets/base",
            "_model_module_version": "1.2.0",
            "_model_name": "LayoutModel",
            "_view_count": null,
            "_view_module": "@jupyter-widgets/base",
            "_view_module_version": "1.2.0",
            "_view_name": "LayoutView",
            "align_content": null,
            "align_items": null,
            "align_self": null,
            "border": null,
            "bottom": null,
            "display": null,
            "flex": null,
            "flex_flow": null,
            "grid_area": null,
            "grid_auto_columns": null,
            "grid_auto_flow": null,
            "grid_auto_rows": null,
            "grid_column": null,
            "grid_gap": null,
            "grid_row": null,
            "grid_template_areas": null,
            "grid_template_columns": null,
            "grid_template_rows": null,
            "height": null,
            "justify_content": null,
            "justify_items": null,
            "left": null,
            "margin": null,
            "max_height": null,
            "max_width": null,
            "min_height": null,
            "min_width": null,
            "object_fit": null,
            "object_position": null,
            "order": null,
            "overflow": null,
            "overflow_x": null,
            "overflow_y": null,
            "padding": null,
            "right": null,
            "top": null,
            "visibility": null,
            "width": null
          }
        },
        "18916127b8754feb841df5754da1d65a": {
          "model_module": "@jupyter-widgets/base",
          "model_name": "LayoutModel",
          "model_module_version": "1.2.0",
          "state": {
            "_model_module": "@jupyter-widgets/base",
            "_model_module_version": "1.2.0",
            "_model_name": "LayoutModel",
            "_view_count": null,
            "_view_module": "@jupyter-widgets/base",
            "_view_module_version": "1.2.0",
            "_view_name": "LayoutView",
            "align_content": null,
            "align_items": null,
            "align_self": null,
            "border": null,
            "bottom": null,
            "display": null,
            "flex": null,
            "flex_flow": null,
            "grid_area": null,
            "grid_auto_columns": null,
            "grid_auto_flow": null,
            "grid_auto_rows": null,
            "grid_column": null,
            "grid_gap": null,
            "grid_row": null,
            "grid_template_areas": null,
            "grid_template_columns": null,
            "grid_template_rows": null,
            "height": null,
            "justify_content": null,
            "justify_items": null,
            "left": null,
            "margin": null,
            "max_height": null,
            "max_width": null,
            "min_height": null,
            "min_width": null,
            "object_fit": null,
            "object_position": null,
            "order": null,
            "overflow": null,
            "overflow_x": null,
            "overflow_y": null,
            "padding": null,
            "right": null,
            "top": null,
            "visibility": null,
            "width": null
          }
        },
        "6a262c7036c847249567de5a596518c8": {
          "model_module": "@jupyter-widgets/controls",
          "model_name": "DescriptionStyleModel",
          "model_module_version": "1.5.0",
          "state": {
            "_model_module": "@jupyter-widgets/controls",
            "_model_module_version": "1.5.0",
            "_model_name": "DescriptionStyleModel",
            "_view_count": null,
            "_view_module": "@jupyter-widgets/base",
            "_view_module_version": "1.2.0",
            "_view_name": "StyleView",
            "description_width": ""
          }
        },
        "b8994519dd8a44eaab498259927427cd": {
          "model_module": "@jupyter-widgets/base",
          "model_name": "LayoutModel",
          "model_module_version": "1.2.0",
          "state": {
            "_model_module": "@jupyter-widgets/base",
            "_model_module_version": "1.2.0",
            "_model_name": "LayoutModel",
            "_view_count": null,
            "_view_module": "@jupyter-widgets/base",
            "_view_module_version": "1.2.0",
            "_view_name": "LayoutView",
            "align_content": null,
            "align_items": null,
            "align_self": null,
            "border": null,
            "bottom": null,
            "display": null,
            "flex": null,
            "flex_flow": null,
            "grid_area": null,
            "grid_auto_columns": null,
            "grid_auto_flow": null,
            "grid_auto_rows": null,
            "grid_column": null,
            "grid_gap": null,
            "grid_row": null,
            "grid_template_areas": null,
            "grid_template_columns": null,
            "grid_template_rows": null,
            "height": null,
            "justify_content": null,
            "justify_items": null,
            "left": null,
            "margin": null,
            "max_height": null,
            "max_width": null,
            "min_height": null,
            "min_width": null,
            "object_fit": null,
            "object_position": null,
            "order": null,
            "overflow": null,
            "overflow_x": null,
            "overflow_y": null,
            "padding": null,
            "right": null,
            "top": null,
            "visibility": null,
            "width": null
          }
        },
        "aac62406527b4595bed0e527c1a8774a": {
          "model_module": "@jupyter-widgets/controls",
          "model_name": "ProgressStyleModel",
          "model_module_version": "1.5.0",
          "state": {
            "_model_module": "@jupyter-widgets/controls",
            "_model_module_version": "1.5.0",
            "_model_name": "ProgressStyleModel",
            "_view_count": null,
            "_view_module": "@jupyter-widgets/base",
            "_view_module_version": "1.2.0",
            "_view_name": "StyleView",
            "bar_color": null,
            "description_width": ""
          }
        },
        "a2ad94d6324c4fdda589a3ab0427ab78": {
          "model_module": "@jupyter-widgets/base",
          "model_name": "LayoutModel",
          "model_module_version": "1.2.0",
          "state": {
            "_model_module": "@jupyter-widgets/base",
            "_model_module_version": "1.2.0",
            "_model_name": "LayoutModel",
            "_view_count": null,
            "_view_module": "@jupyter-widgets/base",
            "_view_module_version": "1.2.0",
            "_view_name": "LayoutView",
            "align_content": null,
            "align_items": null,
            "align_self": null,
            "border": null,
            "bottom": null,
            "display": null,
            "flex": null,
            "flex_flow": null,
            "grid_area": null,
            "grid_auto_columns": null,
            "grid_auto_flow": null,
            "grid_auto_rows": null,
            "grid_column": null,
            "grid_gap": null,
            "grid_row": null,
            "grid_template_areas": null,
            "grid_template_columns": null,
            "grid_template_rows": null,
            "height": null,
            "justify_content": null,
            "justify_items": null,
            "left": null,
            "margin": null,
            "max_height": null,
            "max_width": null,
            "min_height": null,
            "min_width": null,
            "object_fit": null,
            "object_position": null,
            "order": null,
            "overflow": null,
            "overflow_x": null,
            "overflow_y": null,
            "padding": null,
            "right": null,
            "top": null,
            "visibility": null,
            "width": null
          }
        },
        "75cfaad2b23a4a56b053b408f5869619": {
          "model_module": "@jupyter-widgets/controls",
          "model_name": "DescriptionStyleModel",
          "model_module_version": "1.5.0",
          "state": {
            "_model_module": "@jupyter-widgets/controls",
            "_model_module_version": "1.5.0",
            "_model_name": "DescriptionStyleModel",
            "_view_count": null,
            "_view_module": "@jupyter-widgets/base",
            "_view_module_version": "1.2.0",
            "_view_name": "StyleView",
            "description_width": ""
          }
        }
      }
    }
  },
  "nbformat": 4,
  "nbformat_minor": 0
}